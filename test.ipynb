{
  "nbformat": 4,
  "nbformat_minor": 0,
  "metadata": {
    "colab": {
      "private_outputs": true,
      "provenance": [],
      "toc_visible": true
    },
    "kernelspec": {
      "name": "python3",
      "display_name": "Python 3"
    },
    "language_info": {
      "name": "python"
    },
    "accelerator": "GPU",
    "gpuClass": "standard"
  },
  "cells": [
    {
      "cell_type": "code",
      "execution_count": null,
      "metadata": {
        "id": "pX4BrL17lVx8"
      },
      "outputs": [],
      "source": [
        "type('hello')\n",
        "type(15)\n",
        "type((1,0,0))\n",
        "1,000,000\n",
        "a,b,c = 1,000,000\n",
        "print(a,b,c)\n",
        "a,b = b,a\n",
        "type(True)"
      ]
    },
    {
      "cell_type": "code",
      "source": [
        "name = 'a'\n",
        "Name = 'b'\n",
        "print(name,Name)"
      ],
      "metadata": {
        "id": "tsJRmCktpWQE"
      },
      "execution_count": null,
      "outputs": []
    },
    {
      "cell_type": "code",
      "source": [
        "n=5\n",
        "id(n)"
      ],
      "metadata": {
        "id": "TcIqOvJ5pnz2"
      },
      "execution_count": null,
      "outputs": []
    },
    {
      "cell_type": "code",
      "source": [
        "n\n",
        "n=7\n",
        "n"
      ],
      "metadata": {
        "id": "yvj1F0A4uIMT"
      },
      "execution_count": null,
      "outputs": []
    },
    {
      "cell_type": "code",
      "source": [
        "s='hello'\n",
        "s"
      ],
      "metadata": {
        "id": "yDzdhm6vvCc-"
      },
      "execution_count": null,
      "outputs": []
    },
    {
      "cell_type": "code",
      "source": [
        "for i in [1,2,3]:\n",
        "    print(i)"
      ],
      "metadata": {
        "id": "8gZRX0wsvb2R"
      },
      "execution_count": null,
      "outputs": []
    },
    {
      "cell_type": "code",
      "source": [
        "for c in s:\n",
        "    print(c)"
      ],
      "metadata": {
        "id": "cY7WqTWBvh9S"
      },
      "execution_count": null,
      "outputs": []
    },
    {
      "cell_type": "code",
      "source": [
        "for c in ['h','e','l','l','o']:\n",
        "    print(c)"
      ],
      "metadata": {
        "id": "JxIW796Ovphv"
      },
      "execution_count": null,
      "outputs": []
    },
    {
      "cell_type": "code",
      "source": [
        "lst = [1,2,3]\n",
        "if 2 in lst:\n",
        "    print('contains')"
      ],
      "metadata": {
        "id": "30pl9pUOwATg"
      },
      "execution_count": null,
      "outputs": []
    },
    {
      "cell_type": "code",
      "source": [
        "if 'h' in s:\n",
        "    print('contains')"
      ],
      "metadata": {
        "id": "9UN93kkIwIvZ"
      },
      "execution_count": null,
      "outputs": []
    },
    {
      "cell_type": "code",
      "source": [
        "for i in range(5):\n",
        "    print(i)"
      ],
      "metadata": {
        "id": "_wEz9x5gwQOh"
      },
      "execution_count": null,
      "outputs": []
    },
    {
      "cell_type": "code",
      "source": [
        "msg='hello'\n",
        "msg2=\"hello\"\n",
        "print(msg,msg2)"
      ],
      "metadata": {
        "id": "0E64EQDewf6P"
      },
      "execution_count": null,
      "outputs": []
    },
    {
      "cell_type": "code",
      "source": [
        "msg3='''\n",
        "ddd\n",
        "ddd\n",
        "ddd\n",
        "'''\n",
        "print(msg3)"
      ],
      "metadata": {
        "id": "NOfA163aw3Hg"
      },
      "execution_count": null,
      "outputs": []
    },
    {
      "cell_type": "code",
      "source": [
        "x = '''\n",
        "\"What's your name.?\" I asked\n",
        "He said \"Bond, James Bond\"\n",
        "'''\n",
        "print(x)"
      ],
      "metadata": {
        "id": "frHRzJzQxQ0Q"
      },
      "execution_count": null,
      "outputs": []
    },
    {
      "cell_type": "code",
      "source": [
        "'good' + 'bye'\n",
        "('a'+'b') *3\n",
        "'a'*3 + 'b' *3\n",
        "'ha' * 3\n"
      ],
      "metadata": {
        "id": "xk77NZDLxhpg"
      },
      "execution_count": null,
      "outputs": []
    },
    {
      "cell_type": "code",
      "source": [
        "print('*' * 3, '*' * 2, '*', sep='\\n')"
      ],
      "metadata": {
        "id": "ntU3tGlNx5oJ"
      },
      "execution_count": null,
      "outputs": []
    },
    {
      "cell_type": "code",
      "source": [
        "len('string')\n",
        "eval('23')"
      ],
      "metadata": {
        "id": "YcgIgCZqyWKg"
      },
      "execution_count": null,
      "outputs": []
    },
    {
      "cell_type": "code",
      "source": [
        "m='3'\n",
        "n='5'\n",
        "m+n\n"
      ],
      "metadata": {
        "id": "e6d2R8hRy95v"
      },
      "execution_count": null,
      "outputs": []
    },
    {
      "cell_type": "code",
      "source": [
        "m=3\n",
        "n=5\n",
        "eval('m+n')"
      ],
      "metadata": {
        "id": "nurZ1YssznnJ"
      },
      "execution_count": null,
      "outputs": []
    },
    {
      "cell_type": "code",
      "source": [
        "str='    Python is good    '\n",
        "str.title()\n",
        "str.strip()\n",
        "min(str)\n",
        "max(str)"
      ],
      "metadata": {
        "id": "L-Etamx30Yj-"
      },
      "execution_count": null,
      "outputs": []
    },
    {
      "cell_type": "code",
      "source": [
        "str='pythonisgood'\n",
        "data.a().b().build() # chained method"
      ],
      "metadata": {
        "id": "bF_p_fL72KJW"
      },
      "execution_count": null,
      "outputs": []
    },
    {
      "cell_type": "code",
      "source": [
        "str='pythonisgood'\n",
        "str[0]\n",
        "len(str)\n",
        "str[len(str)-1]\n",
        "for i in range(len(str)):\n",
        "    print(str[i])\n"
      ],
      "metadata": {
        "id": "BsXVOUj12dHO"
      },
      "execution_count": null,
      "outputs": []
    },
    {
      "cell_type": "code",
      "source": [
        "n=5\n",
        "print(str[:n], str[n:], sep='')"
      ],
      "metadata": {
        "id": "83rRlx_13Plp"
      },
      "execution_count": null,
      "outputs": []
    },
    {
      "cell_type": "code",
      "source": [
        "str[-1]"
      ],
      "metadata": {
        "id": "Wv_ukvnu3q6c"
      },
      "execution_count": null,
      "outputs": []
    },
    {
      "cell_type": "code",
      "source": [],
      "metadata": {
        "id": "fVj0o7_v6hpd"
      },
      "execution_count": null,
      "outputs": []
    },
    {
      "cell_type": "code",
      "source": [
        "str[str.find('i')]"
      ],
      "metadata": {
        "id": "z9wOdiIT4TqX"
      },
      "execution_count": null,
      "outputs": []
    },
    {
      "cell_type": "code",
      "source": [
        "str[::-1] #문자열 뒤집기"
      ],
      "metadata": {
        "id": "ea7Ao9Dt6zNa"
      },
      "execution_count": null,
      "outputs": []
    },
    {
      "cell_type": "code",
      "source": [
        "for i in range(1,5,2):\n",
        "    print(i)"
      ],
      "metadata": {
        "id": "D5Cmt0jE7V3q"
      },
      "execution_count": null,
      "outputs": []
    },
    {
      "cell_type": "code",
      "source": [
        "print(1,2,3, sep='\\n') # sep -> seperate"
      ],
      "metadata": {
        "id": "9nB4BEHX7ca5"
      },
      "execution_count": null,
      "outputs": []
    },
    {
      "cell_type": "code",
      "source": [
        "print('hahaha', end='')\n",
        "print('hehehe')"
      ],
      "metadata": {
        "id": "8HF2N_Pe77Xh"
      },
      "execution_count": null,
      "outputs": []
    },
    {
      "cell_type": "code",
      "source": [
        "print(*lst) # *은 언팩"
      ],
      "metadata": {
        "id": "lz3p6ZML8VYa"
      },
      "execution_count": null,
      "outputs": []
    },
    {
      "cell_type": "code",
      "source": [
        "age=20\n",
        "name='kim'\n",
        "print('''{0} was {1} years old when he wrote the book A byte of Python.'''.format(name,age))"
      ],
      "metadata": {
        "id": "BF-yOWid8fNw"
      },
      "execution_count": null,
      "outputs": []
    },
    {
      "cell_type": "code",
      "source": [
        "print('kim', 100, sep=',')"
      ],
      "metadata": {
        "id": "1E3EXL6y9yjm"
      },
      "execution_count": null,
      "outputs": []
    },
    {
      "cell_type": "code",
      "source": [
        "print('hel \\' lo')"
      ],
      "metadata": {
        "id": "tMOD38H-_KxV"
      },
      "execution_count": null,
      "outputs": []
    },
    {
      "cell_type": "code",
      "source": [
        "print(\"he said, \\\"bond, james bond.\\\"\")"
      ],
      "metadata": {
        "id": "W24kbxDj_h-f"
      },
      "execution_count": null,
      "outputs": []
    },
    {
      "cell_type": "code",
      "source": [
        "print(r'hello\\n')"
      ],
      "metadata": {
        "id": "K1Clt17w_w1v"
      },
      "execution_count": null,
      "outputs": []
    },
    {
      "cell_type": "code",
      "source": [
        "#input\n",
        "5\n",
        "12345\n",
        "\n",
        "#output\n",
        "15"
      ],
      "metadata": {
        "id": "aCaPwwfwALWT"
      },
      "execution_count": null,
      "outputs": []
    },
    {
      "cell_type": "code",
      "source": [
        "n = int(input('enter a number : '))\n",
        "for i in range(n):\n",
        "    print(i)"
      ],
      "metadata": {
        "id": "W5TXz93SAQwD"
      },
      "execution_count": null,
      "outputs": []
    },
    {
      "cell_type": "code",
      "source": [],
      "metadata": {
        "id": "4xifQBBQCs3j"
      },
      "execution_count": null,
      "outputs": []
    },
    {
      "cell_type": "code",
      "source": [
        "fullName = input('input name')\n",
        "n = fullName.rfind(' ')\n",
        "print('Last name:', fullName[n+1:])\n",
        "print('First name(s):', fullName[:n])\n"
      ],
      "metadata": {
        "id": "lec1HXz9BRl2"
      },
      "execution_count": null,
      "outputs": []
    }
  ]
}