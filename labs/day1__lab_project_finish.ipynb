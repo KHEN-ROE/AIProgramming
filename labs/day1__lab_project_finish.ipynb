{
  "nbformat": 4,
  "nbformat_minor": 0,
  "metadata": {
    "colab": {
      "provenance": [],
      "toc_visible": true
    },
    "kernelspec": {
      "name": "python3",
      "display_name": "Python 3"
    },
    "language_info": {
      "name": "python"
    }
  },
  "cells": [
    {
      "cell_type": "markdown",
      "source": [
        "# Lab1"
      ],
      "metadata": {
        "id": "ZYJeA4fpcGNk"
      }
    },
    {
      "cell_type": "markdown",
      "source": [
        "1. Create a string variable called 'course_name' with the value \"Python for Non-Majors\", and print its length. \n",
        "\n",
        "hint: len()\n",
        "\n",
        "\n"
      ],
      "metadata": {
        "id": "0AZqhmeccW7p"
      }
    },
    {
      "cell_type": "code",
      "source": [
        "course_name = 'Python for Non-Majors'\n",
        "len(course_name)"
      ],
      "metadata": {
        "id": "SBUQ1WRTc1Nz",
        "colab": {
          "base_uri": "https://localhost:8080/"
        },
        "outputId": "ada2a54a-2f1d-466d-e78c-1146fc5c90c9"
      },
      "execution_count": null,
      "outputs": [
        {
          "output_type": "execute_result",
          "data": {
            "text/plain": [
              "21"
            ]
          },
          "metadata": {},
          "execution_count": 1
        }
      ]
    },
    {
      "cell_type": "markdown",
      "source": [
        "2. Rename the following invalid variable names to follow Python naming rules: 1st_name, @age, Full-Name, class, list.\n",
        "\n",
        "\n"
      ],
      "metadata": {
        "id": "mGbPfQJEc5pl"
      }
    },
    {
      "cell_type": "code",
      "source": [
        "first_name = 'KEN'\n",
        "age = 28\n",
        "full_name = 'KEN ROE'\n",
        "class1 = 402\n",
        "list1 = [first_name, age, full_name, class1]\n",
        "print(list1)"
      ],
      "metadata": {
        "id": "mGAC-9rSc7Qd",
        "colab": {
          "base_uri": "https://localhost:8080/"
        },
        "outputId": "b30b4bfc-e429-4496-be31-ad35ef4e3dd7"
      },
      "execution_count": null,
      "outputs": [
        {
          "output_type": "stream",
          "name": "stdout",
          "text": [
            "['KEN', 28, 'KEN ROE', 402]\n"
          ]
        }
      ]
    },
    {
      "cell_type": "markdown",
      "source": [
        "3. Calculate the result of 5 multiplied by 3, divided by 2, and raised to the power of 4. Use parentheses to ensure correct precedence.\n",
        "\n"
      ],
      "metadata": {
        "id": "INqFk2K5c7ks"
      }
    },
    {
      "cell_type": "code",
      "source": [
        "result = (5 * 3 / 2)**4\n",
        "print(result)"
      ],
      "metadata": {
        "id": "B2c46qWfc8z0",
        "colab": {
          "base_uri": "https://localhost:8080/"
        },
        "outputId": "d7466305-4776-452c-da7a-699728d63054"
      },
      "execution_count": null,
      "outputs": [
        {
          "output_type": "execute_result",
          "data": {
            "text/plain": [
              "3164.0625"
            ]
          },
          "metadata": {},
          "execution_count": 60
        }
      ]
    },
    {
      "cell_type": "markdown",
      "source": [
        "\n",
        "4. Print the values of three variables on the same line, separated by commas and a space.\n",
        "\n",
        "\tname = \"Alice\", age = 30, city = \"New York\""
      ],
      "metadata": {
        "id": "jAEoPcBXc9kM"
      }
    },
    {
      "cell_type": "code",
      "source": [
        "name='Alice'\n",
        "age=30\n",
        "city='New York'\n",
        "print(name, age, city, sep=', ')"
      ],
      "metadata": {
        "id": "nJN7nZ1Nc-ad",
        "colab": {
          "base_uri": "https://localhost:8080/"
        },
        "outputId": "09c7ee00-ea80-4b6d-d57a-ca0306f24d66"
      },
      "execution_count": null,
      "outputs": [
        {
          "output_type": "stream",
          "name": "stdout",
          "text": [
            "Alice, 30, New York\n"
          ]
        }
      ]
    },
    {
      "cell_type": "markdown",
      "source": [
        "5. Create a variable containing a string and reassign it to an integer.\n",
        "\n",
        "\n",
        "\n"
      ],
      "metadata": {
        "id": "EkRNBCyLctUY"
      }
    },
    {
      "cell_type": "code",
      "source": [
        "my_str = 'hello'\n",
        "my_str = 5\n",
        "print(my_str)"
      ],
      "metadata": {
        "id": "BxdeHEF_cB3C",
        "colab": {
          "base_uri": "https://localhost:8080/"
        },
        "outputId": "ab1332c0-66ff-4777-e193-4dba3fc9cf8f"
      },
      "execution_count": null,
      "outputs": [
        {
          "output_type": "stream",
          "name": "stdout",
          "text": [
            "5\n"
          ]
        }
      ]
    },
    {
      "cell_type": "markdown",
      "source": [
        "6. Check the data type of a float variable and convert it to an integer.\n",
        "\n",
        "\n"
      ],
      "metadata": {
        "id": "8urakjF8dBKW"
      }
    },
    {
      "cell_type": "code",
      "source": [
        "my_float = 3.14159\n",
        "type(my_float)\n",
        "my_float1 = int(my_float)\n",
        "type(my_float1)"
      ],
      "metadata": {
        "id": "gDSlPn3DdDOM",
        "colab": {
          "base_uri": "https://localhost:8080/"
        },
        "outputId": "bf607938-1a71-4781-fd0e-030c436374ce"
      },
      "execution_count": null,
      "outputs": [
        {
          "output_type": "execute_result",
          "data": {
            "text/plain": [
              "int"
            ]
          },
          "metadata": {},
          "execution_count": 63
        }
      ]
    },
    {
      "cell_type": "markdown",
      "source": [
        "7. Given an integer and a float, calculate their sum and product. Store the results in two separate variables and print them.\n",
        "\n",
        "\n"
      ],
      "metadata": {
        "id": "Zlqm6hu3dDno"
      }
    },
    {
      "cell_type": "code",
      "source": [
        "my_int = 10\n",
        "my_float = 3.14159\n",
        "sum = my_int + my_float\n",
        "product = my_int * my_float\n",
        "print('sum = ', sum, 'product = ', product, sep=' ')"
      ],
      "metadata": {
        "id": "04L2YydrdE13",
        "colab": {
          "base_uri": "https://localhost:8080/"
        },
        "outputId": "cca544e8-dba8-4a97-a835-aa121b30969e"
      },
      "execution_count": null,
      "outputs": [
        {
          "output_type": "stream",
          "name": "stdout",
          "text": [
            "sum =  13.14159 product =  31.4159\n"
          ]
        }
      ]
    },
    {
      "cell_type": "markdown",
      "source": [
        "8. Use comparison and logical operators to evaluate a condition. The comparison should check if x is less than y, and if y is less than z. Print the value of result to the console.\n",
        "\n",
        "\tx = 10, y = 20, z = 30"
      ],
      "metadata": {
        "id": "DsXdhO5zdFQX"
      }
    },
    {
      "cell_type": "code",
      "source": [
        "x=10\n",
        "y=20\n",
        "z=30\n",
        "if x < y:\n",
        "    print(x)\n",
        "elif y < z:\n",
        "    print(y) "
      ],
      "metadata": {
        "id": "ZFivLJHCdGK3",
        "colab": {
          "base_uri": "https://localhost:8080/"
        },
        "outputId": "d2fb76aa-01cf-410f-a785-40aeac7af332"
      },
      "execution_count": null,
      "outputs": [
        {
          "output_type": "stream",
          "name": "stdout",
          "text": [
            "10\n"
          ]
        }
      ]
    },
    {
      "cell_type": "markdown",
      "source": [
        "# Lab2"
      ],
      "metadata": {
        "id": "9fgcLU2reahl"
      }
    },
    {
      "cell_type": "markdown",
      "source": [
        "1. Create a string of 10 asterisks using repetition, and print the length of the string.\n",
        "\n",
        "\ttext = “*”"
      ],
      "metadata": {
        "id": "dI9p5_rNec8G"
      }
    },
    {
      "cell_type": "code",
      "source": [
        "text = '*'\n",
        "print(text*10)"
      ],
      "metadata": {
        "id": "nvheaxJOedT9",
        "colab": {
          "base_uri": "https://localhost:8080/"
        },
        "outputId": "c5400715-fd1a-46b6-b193-3187aa8602f3"
      },
      "execution_count": null,
      "outputs": [
        {
          "output_type": "stream",
          "name": "stdout",
          "text": [
            "**********\n"
          ]
        }
      ]
    },
    {
      "cell_type": "markdown",
      "source": [
        "2. Convert a string to title case and print the result. hint: title()\n",
        "\n",
        "\ttext = \"hello world\""
      ],
      "metadata": {
        "id": "wDOVnwLTee8p"
      }
    },
    {
      "cell_type": "code",
      "source": [
        "text = \"hello world\"\n",
        "print(text.title())"
      ],
      "metadata": {
        "id": "YeC_cgT3ee8q",
        "colab": {
          "base_uri": "https://localhost:8080/"
        },
        "outputId": "a81ac8ae-9444-41b8-e0fc-f6cefcc5cff7"
      },
      "execution_count": null,
      "outputs": [
        {
          "output_type": "stream",
          "name": "stdout",
          "text": [
            "Hello World\n"
          ]
        }
      ]
    },
    {
      "cell_type": "markdown",
      "source": [
        "3. Slice a string to obtain every second character, starting from the first character.\n",
        "\n",
        "\ttext = \"Python is fun!\""
      ],
      "metadata": {
        "id": "J5zjEzX3efP0"
      }
    },
    {
      "cell_type": "code",
      "source": [
        "text = \"Python is fun!\"\n",
        "text[::2]"
      ],
      "metadata": {
        "id": "Q7DxZNeGefP0",
        "colab": {
          "base_uri": "https://localhost:8080/",
          "height": 35
        },
        "outputId": "a43a2629-2f63-4134-a59d-7118809aee33"
      },
      "execution_count": null,
      "outputs": [
        {
          "output_type": "execute_result",
          "data": {
            "text/plain": [
              "'Pto sfn'"
            ],
            "application/vnd.google.colaboratory.intrinsic+json": {
              "type": "string"
            }
          },
          "metadata": {},
          "execution_count": 45
        }
      ]
    },
    {
      "cell_type": "markdown",
      "source": [
        "4. Create a string containing double quotes and a newline character.\n",
        "\n",
        "\ttext = This is a string with \"double quotes\" and a newline"
      ],
      "metadata": {
        "id": "SVmkUvFEefSw"
      }
    },
    {
      "cell_type": "code",
      "source": [
        "text = \"This is a string with \\\"double quotes\\\" and a newline\\n\"\n",
        "print(text)"
      ],
      "metadata": {
        "id": "1h3JnFZ3efSx",
        "colab": {
          "base_uri": "https://localhost:8080/"
        },
        "outputId": "7400a164-bd14-4f92-c0e3-04472f4f531f"
      },
      "execution_count": null,
      "outputs": [
        {
          "output_type": "stream",
          "name": "stdout",
          "text": [
            "This is a string with \"double quotes\" and a newline\n",
            "\n"
          ]
        }
      ]
    },
    {
      "cell_type": "markdown",
      "source": [
        "5. Use the 'sep' argument in the print() function to print a list of items separated by commas.\n",
        "\n",
        "\tItems = apple, banana, orange"
      ],
      "metadata": {
        "id": "Ig4Qqk6fefV5"
      }
    },
    {
      "cell_type": "code",
      "source": [
        "Items = 'apple', 'banana', 'orange'\n",
        "print(Items, sep=',')"
      ],
      "metadata": {
        "id": "wiEtWocNefV6",
        "colab": {
          "base_uri": "https://localhost:8080/"
        },
        "outputId": "86618bda-307a-4320-ada3-fd2d93db976b"
      },
      "execution_count": null,
      "outputs": [
        {
          "output_type": "stream",
          "name": "stdout",
          "text": [
            "('apple', 'banana', 'orange')\n"
          ]
        }
      ]
    },
    {
      "cell_type": "markdown",
      "source": [
        "6. Get user input for a floating-point number and print its square."
      ],
      "metadata": {
        "id": "bqPkCSx-efYw"
      }
    },
    {
      "cell_type": "code",
      "source": [
        "my_float = float(input(\"input float number\"))\n",
        "print(my_float**2)"
      ],
      "metadata": {
        "id": "LDvc1P3HefYx",
        "colab": {
          "base_uri": "https://localhost:8080/"
        },
        "outputId": "4bfe3615-3a96-4afc-93ce-01709936e060"
      },
      "execution_count": null,
      "outputs": [
        {
          "output_type": "stream",
          "name": "stdout",
          "text": [
            "input float number3.14\n",
            "9.8596\n"
          ]
        }
      ]
    },
    {
      "cell_type": "markdown",
      "source": [
        "7. Create a string 'email' and use string methods to replace '@' with ' [at] ' and '.' with ' [dot] '.\n",
        "\n",
        "\temail = \"john.doe@example.com\"\n",
        "\n",
        "hint: replace() in str"
      ],
      "metadata": {
        "id": "6HbHQ3mDefbV"
      }
    },
    {
      "cell_type": "code",
      "source": [
        "email = \"john.doe@example.com\"\n",
        "email = email.replace('@', '[at]').replace('.', '[dot]') #메소드 체이닝\n",
        "print(email)"
      ],
      "metadata": {
        "id": "W1YLTHq4efbV",
        "colab": {
          "base_uri": "https://localhost:8080/"
        },
        "outputId": "23d4fc15-c9d7-45b4-8c3d-ec194226824e"
      },
      "execution_count": null,
      "outputs": [
        {
          "output_type": "stream",
          "name": "stdout",
          "text": [
            "john[dot]doe[at]example[dot]com\n"
          ]
        }
      ]
    },
    {
      "cell_type": "markdown",
      "source": [
        "# Project"
      ],
      "metadata": {
        "id": "BCoKWQ_tfC2S"
      }
    },
    {
      "cell_type": "markdown",
      "source": [
        "1. Text Analysis\n",
        "\n",
        "Create a program that performs a simple analysis of a user-provided text passage.\n",
        "\n",
        "<br>\n",
        "Input:\n",
        "\n",
        "The quick brown fox jumps over the lazy dog. The weather is great today. Let's go outside and play!\n",
        "\n",
        "<br>\n",
        "Instruction:\n",
        "\n",
        "  * Prompt the user for a text passage.\n",
        "  * Ignore case and punctuation.\n",
        "  * Calculate and print the total number of characters, words, and sentences in the passage.\n",
        "  * Calculate and print the average length of words and sentences.\n",
        "  * Calculate and print the frequency of each vowel (a, e, i, o, u) and the percentage of vowels in the text.\n",
        "  * Calculate and print the frequency of each word in the passage.\n",
        "\n"
      ],
      "metadata": {
        "id": "9GoMSloKfEl6"
      }
    },
    {
      "cell_type": "code",
      "source": [
        "import string\n",
        "\n",
        "text = input(\"Enter a text passage: \")\n",
        "\n",
        "# Remove white spaces from a given string\n",
        "# Count the number of characters\n",
        "#punctuation은 문장부호 의미. maketrans는 문장부호 제거하는 함수, translate 함수는 변환한 것을 characters에 저장\n",
        "characters = len(text.translate(str.maketrans('', '', string.punctuation)))\n",
        "\n",
        "words = text.split()\n",
        "word_count = len(words)\n",
        "\n",
        "sentences = text.split(\",\")\n",
        "sentences = [sentence for sentence in sentences if sentence] # sentences리스트에서 공백등을 제거하여 새 리스트에 저장. if문의 의미는 비어있거나 blank이면 안된다는 뜻\n",
        "#리스트 컴프리헨션은 기존 리스트의 각 요소에 특정 조건 또는 변환을 적용하여 새 리스트를 만드는 방법임.\n",
        "sentence_count = len(sentences)\n",
        "\n",
        "# Calculate the average word length\n",
        "total_word_length = 0\n",
        "for word in words:\n",
        "    total_word_length += len(word)\n",
        "average_word_length = total_word_length / word_count\n",
        "\n",
        "# Calculate the average sentence length\n",
        "average_sentence_length = word_count / sentence_count\n",
        "\n",
        "vowels = \"aeiou\"\n",
        "vowel_count = {vowel: text.lower().count(vowel) for vowel in vowels}\n",
        "total_vowel_count = sum(vowel_count.values())\n",
        "vowel_percentage = total_vowel_count / characters * 100\n",
        "\n",
        "word_frequency = {}\n",
        "for word in words:\n",
        "    word = word.lower()\n",
        "    word_frequency[word] = word_frequency.get(word, 0) + 1\n",
        "\n",
        "print(f\"Total characters: {characters}\")\n",
        "print(f\"Total words: {word_count}\")\n",
        "print(f\"Total sentences: {sentence_count}\")\n",
        "print(f\"Average word length: {average_word_length:.2f}\")\n",
        "print(f\"Average sentence length: {average_sentence_length:.2f}\")\n",
        "print(\"\\nVowel frequencies and percentages:\")\n",
        "\n",
        "for vowel, count in vowel_count.items():\n",
        "    print(f\"{vowel}: {count} ({count/characters * 100:.2f}%)\")\n",
        "print(\"\\nWord frequencies:\")\n",
        "for word, count in word_frequency.items():\n",
        "    print(f\"{word}: {count}\")"
      ],
      "metadata": {
        "id": "X5Q8ZjwPfI1a",
        "colab": {
          "base_uri": "https://localhost:8080/"
        },
        "outputId": "eede4d6a-ed0a-47d3-fa18-7fc0382800f8"
      },
      "execution_count": null,
      "outputs": [
        {
          "output_type": "stream",
          "name": "stdout",
          "text": [
            "input messageThe quick brown fox jumps over the lazy dog. The weather is great today. Let's go outside and play!\n",
            "the quick brown fox jumps over the lazy dog. the weather is great today. let's go outside and play!\n"
          ]
        }
      ]
    },
    {
      "cell_type": "markdown",
      "source": [
        "2. Web Article Text Analysis\n",
        "\n",
        "\n",
        "You'll use the BeautifulSoup library to extract text from an article on a news website like the Washington Post, and then perform the same text analysis as before.\n",
        "\n",
        "<br>\n",
        "\n",
        "**Input:**\n",
        "\n",
        "* https://www.washingtonpost.com/national-security/2023/03/31/trump-arraignment-secret-service/\n",
        "\n",
        "* https://v.daum.net/v/20230401115141365\n",
        "\n",
        "<br>\n",
        "\n",
        "**Install the required libraries:**\n",
        "\n",
        "```python\n",
        "pip install bs4\n",
        "pip install requests\n",
        "```\n",
        "\n"
      ],
      "metadata": {
        "id": "m7driE1ZfagV"
      }
    },
    {
      "cell_type": "code",
      "source": [
        "!pip install bs4\n",
        "!pip install requests"
      ],
      "metadata": {
        "id": "VQm4bgErfjj7",
        "colab": {
          "base_uri": "https://localhost:8080/"
        },
        "outputId": "43b3806a-100d-4a40-dc00-8359719adf61"
      },
      "execution_count": null,
      "outputs": [
        {
          "output_type": "stream",
          "name": "stdout",
          "text": [
            "Looking in indexes: https://pypi.org/simple, https://us-python.pkg.dev/colab-wheels/public/simple/\n",
            "Collecting bs4\n",
            "  Downloading bs4-0.0.1.tar.gz (1.1 kB)\n",
            "  Preparing metadata (setup.py) ... \u001b[?25l\u001b[?25hdone\n",
            "Requirement already satisfied: beautifulsoup4 in /usr/local/lib/python3.9/dist-packages (from bs4) (4.11.2)\n",
            "Requirement already satisfied: soupsieve>1.2 in /usr/local/lib/python3.9/dist-packages (from beautifulsoup4->bs4) (2.4)\n",
            "Building wheels for collected packages: bs4\n",
            "  Building wheel for bs4 (setup.py) ... \u001b[?25l\u001b[?25hdone\n",
            "  Created wheel for bs4: filename=bs4-0.0.1-py3-none-any.whl size=1270 sha256=a7cf496dc2ea60710952b176147e4cad15120cd710da5347513f12efe61cdd71\n",
            "  Stored in directory: /root/.cache/pip/wheels/73/2b/cb/099980278a0c9a3e57ff1a89875ec07bfa0b6fcbebb9a8cad3\n",
            "Successfully built bs4\n",
            "Installing collected packages: bs4\n",
            "Successfully installed bs4-0.0.1\n",
            "Looking in indexes: https://pypi.org/simple, https://us-python.pkg.dev/colab-wheels/public/simple/\n",
            "Requirement already satisfied: requests in /usr/local/lib/python3.9/dist-packages (2.27.1)\n",
            "Requirement already satisfied: certifi>=2017.4.17 in /usr/local/lib/python3.9/dist-packages (from requests) (2022.12.7)\n",
            "Requirement already satisfied: idna<4,>=2.5 in /usr/local/lib/python3.9/dist-packages (from requests) (3.4)\n",
            "Requirement already satisfied: urllib3<1.27,>=1.21.1 in /usr/local/lib/python3.9/dist-packages (from requests) (1.26.15)\n",
            "Requirement already satisfied: charset-normalizer~=2.0.0 in /usr/local/lib/python3.9/dist-packages (from requests) (2.0.12)\n"
          ]
        }
      ]
    },
    {
      "cell_type": "code",
      "source": [
        "import re\n",
        "import requests\n",
        "from bs4 import BeautifulSoup\n",
        "\n",
        "url = input(\"Enter the URL of the news article: \")\n",
        "response = requests.get(url)\n",
        "soup = BeautifulSoup(response.text, \"html.parser\")\n",
        "article = soup.find(\"article\")\n",
        "paragraphs = article.find_all(\"p\")\n",
        "text = \" \".join(p.get_text() for p in paragraphs)\n",
        "print('text: ', text)\n"
      ],
      "metadata": {
        "id": "XS2ENJ7Jf3VS",
        "colab": {
          "base_uri": "https://localhost:8080/"
        },
        "outputId": "c2b21f74-a453-4d38-bb99-9c91c3b437ce"
      },
      "execution_count": null,
      "outputs": [
        {
          "output_type": "stream",
          "name": "stdout",
          "text": [
            "Enter the URL of the news article: https://v.daum.net/v/20230401115141365\n",
            "text:  이 글자크기로 변경됩니다. (예시) 가장 빠른 뉴스가 있고 다양한 정보, 쌍방향 소통이 숨쉬는 다음뉴스를 만나보세요. 다음뉴스는 국내외 주요이슈와 실시간 속보, 문화생활 및 다양한 분야의 뉴스를 입체적으로 전달하고 있습니다. ‘부동산을 공부할 결심’의 저자인 배문성 이스트스프링자산운용 채권 애널리스트는 “한국과 중국의 주택임대수익률이 전세계 꼴지 수준이지만 집값이 계속 오를 것이라는 믿음으로 주택투자가 이어졌다”고 말했다. 그는 “부동산 활황기에 신도시 개발 등 주택공급 확대 정책을 펴면 토지보상금이 풀리면서 집값을 자극할 수 있다”면서 “지금과 같은 침체기에 공급확대 정책을 펴야 장기적으로 집값 안정에 기여할 것”이라고 말했다. 다음은 일문일답. -래고랜드발 PF중단사태가 벌어졌다. “작년 레고랜드 사태 때는 기관의 채권 수요가 급감했다. 캐피탈사 등 제2금융권은 수신기반이 없어서 채권 발행을 해야만 자금 조달을 할 수 있다. 이런 상황이 오면 아무리 자산이 많아도 무너질 수 밖에 없다. 당시 정부가 적극적으로 지원해서 유동성 위기를 극복할 수 있었다. 현재 시장의 우려는 정부의 지원에 의한 유동성 위기 극복이 언제까지 지속될 것이냐 하는 것이다. 건설사와 증권사는 2021년까지는 수익을 많이 내서 단기간은 시장이 좋지 않아도 버틸 수 있는 체력과 현금을 보유를 하고 있다. 과거를 되돌아보면 건설사들이 2006~2007년부터 뭔가 안 좋다는 시그널이 있었는데, 결국 문제가 터진 것은 2011~2012년이었다. 중견 건설사와 저축은행의 연쇄부도 사태가 발행했다. 부동산 PF문제는 상당히 오랜 기간에 걸쳐서 계속 문제가 될 것이다.” -미분양 문제를 어떻게 보는가 “최근 7만5000호까지 늘어났다. 2000년부터 장기 평균으로 보면 7만 호 정도의 미분양은 별 문제가 안된다. 연간 40만~60만 정도 공급하는데, 층 동 향을 고려하면 10~20% 정도는 언제든지 미분양이 발생할 수 있다. 7만 호 정도는 어떻게 보면 정상 범위라고도 볼 수 있다. 지난 2008년에 16만호가 넘었던 적이 있다. 건설사들이 밀어내기 분양을 해서 미분양이 급증했다. 만일 조만간 미분양이 줄어든다면 경기가 좋아져서가 아니라 건설사들이 미분양을 우려해서 분양을 하지 않아서 일 것이다.”  -글로벌하게 보면 금리인상으로 인한 집값이 하락을 주도하는 나라가 한국이다. 한국이 가계부채가 많아 금리인상에 취약하다는 지적도 있다. “무디스 등 외국의 신용평가회사들이 한국의 약점으로 북한, 고령화, 가계부채 문제를 연례적으로 언급한다. 가계부채의 축소는 금융건전성 강화 차원에서 반드시 필요하다. 문제는 가계부채를 축소하려면 무리하게 빚내서 집을 사는 것을 막아야 한다. 다른 한편으로 부동산의 경착륙을 막기 위해서는 주택대출을 늘려야 한다. 쉽지 않은 과제이다.” -재건축시장을 어떻게 보는가. “인구가 감소하거나 경기침체가 온다고 해도 새 아파트에 대한 수요는 계속 있을 것이다. 재건축 공급확대는 중장기 가격 안정에는 기여를 할 것이다. 재건축이 전세가격 급락을 막아주는 역할도 할 수 있다. 재건축은 기존 주택 재고의 멸실을 전제로 한다. 2025년 1월에 1만2000가구가 넘는 둔촌주공이 입주한다. 그 시기를 전후해 재건축을 위한 주택멸실이 이뤄지면 전세가격 급락의 충격을 완화할 수 있을 것이다. 그런데 재건축 추진이 생각한 만큼 속도를 내지 못할 수 도 있다. 주변시세가 떨어지면 조합원부담금이 늘어나는데, 그런 상황에서는 재건축 속도를 내기가 쉽지 않다.” -강남 인기는 지속될 것인가? “강남이나 목동의 전세 수요는 자녀 교육을 위해 무리해서라도 이사하는 수요가 많다. 그런데 입시를 끝내고 강남을 빠져나가는 전출인구가 전입인구보다 많아지고 있다. 저출산 고령화 영향이다. 이런 부분이 중장기적으로 강남의 초과수요를 약화시킬 수 있다고 본다. \" -전세가격과 금리는 어떤 관계가 있나? “전세시장도 출발점은 월세이다. 전세가는 결국 월세에 따라 변동한다. 만일 월세가 변하지 않는다면 금리가 오르면 전세가 떨어지고 금리가 낮아지면 전세가 오른다. 즉 월세의 변동이 없으면 전세는 딱 채권이다. 그런데 월세에 영향을 주는 것은 소득과 주택공급이다. 소득이 오르면 당연히 월세도 오른다. 공급이 너무 없으면 역시 월세가 오른다. 월세는 소득과 주택 공급의 함수로 결정된다. 전세는 월세가 정해진 뒤 금리에 따라 변한다.” -2020년 전세가격 폭등의 원인은? “당시 임대차3법이 도입됐다. 정말 교과서적으로 가격 통제 정책을 펼치면 가격은 이원화될 수밖에 없다. 통제된 가격에 수혜를 받는 사람이 있다. 반면 통제가격의 수혜를 받지 못하면 시장 균형 가격보다 더 높은 가격을 낼 수밖에 없다. 전세가격을 안정시키겠다는 좋은 의도로 도입된 법이지만, 결과가 달렸던 이유이다.” -한국과 중국이 임대 수익률이 전 세계에서 꼴찌이다. “전통적으로 월세 수익률이 시장 금리보다 낮았다. 그럼에도 주택투자 수요가 많은 이유는 집값이 오른다는 강한 믿음 덕분이다. 한국과 중국에서 아파트는 일종의 가치 저장 수단이다. 과거 추세로 보면 계속 가격이 올랐기 때문에 월세 수익률이 낮은 것은 문제가 되지 않았다. 대체 투자처의 부재도 부동산 우상향에 대한 믿음을 강화시켰다. 미국의 경우, 주식의 가치가 계속 오를 것이라는 믿음이 강하다. 주택 부자보다는 주식부자를 더 선호한다. 한국이나 중국은 주식시장에서 돈을 벌기 어렵다는 인식도 더해져 임대수익률이 낮아도 주택을 보유하는 것이 더 유리하다는 인식이 형성됐다.” -전세의 지속여부에 대한 논쟁도 벌어진다. “전세자금 대출 금리는 시장금리 중에서도 굉장히 낮다. 정부가 정책적으로 지원하기 때문이다. 그러다보니 전세가 월세보다 저렴하다는 통념이 생겼다. 그런데 지금은 금리가 급격히 오르면서 전세보다 월세가 더 저렴해졌다. 전세와 월세 중 어느 것이 소비자에게 더 유리하냐는 금리에 따라 달라진다. 전세는 빌라왕 사기극처럼 전통적으로 리스크가 있었다. 입주물량이 급증하면 역전세란이 벌어진다. 전세에 대한 시각 자체가 크게 바뀔 것이다.” -집값 안정을 위해 필요한 정책은 ? “공급을 안정적으로 많이 하는 게 가격 안정화에도 도움이 된다는 것은 분명하다. 2020년 집값 폭등기에 서울의 공급이 많았다. 그런데 저금리로 인해 수요가 폭증했다. 집값은 공급만으로 결정되는 것은 아니다. 집값은 소득과 금리도 중요한 변수이다. 어느 한 측면만 너무 강조해서는 안 된다. DSR(총부채상환원리금상환 비율, 소득에 따른 대출 제한제도)이 2019년부터 도입 논의가 있었는데, 이런 저런 이유로 연기가 되면서 2021년 하반기부터 도입됐다. DSR이 주택 수요를 줄이는데 효과가 분명히 있다고 생각을 한다. 집값 폭등이 유동성 때문에 발생했다면 유동성을 섬세하게 관리를 할 필요가 있다. DSR이 좀 일찍 도입을 했다면 상승폭이 좀 줄어들었을 것이라는 아쉬움이 있다. 신규주택을 지속적으로 공급하는 것은 당연히 중요한 일이다. 그런데 문제는 공급확대 계획이 실제 입주까지 시간이 많이 걸린다. 부동산 활황기에 3기 신도시 같은 걸 발표하면 시장은 장기적으로 공급확대로 인한 가격안정의 시그널로 받아들이기보다는 토지보상금 풀려서 집값을 자극한다는 보도가 잇따른다. 결국 공급확대에 기여하는 정책들은 집값이 침체된 시기에 추진하는 것이 변동성을 완화시킬 수 있다. \" -집값의 적정 가치는 있는가? “주가를 설명하는 밸류에이션 툴이 여러 가지 있지만 참고사항이 될 뿐이다. 집값의 가치를 정확하게 평가하는 정교한 툴을 만들 수는 없다. 다만, 우리보다 금융의 역사가 깊은 선진국들의 사례로 보면 월세수익률과 시장금리가 오랜 기간 크게 괴리될 수는 없다. 딱히 임대료가 급등할만한 호재가 있는게 아닌데 임대수익률이 예금금리보다도 낮다면 그런 가격은 유지되기 어렵다고 본다. 우리나라는 2011년부터 전월세 실거래가가 공개되고 있는데 아파트 월세수익률이 기준금리 대비 1%p 정도 높은 수준을 유지해왔다. 이번에는 기준금리가 단기간에 너무 빨리 오르다보니 월세수익률보다 높다. 이게 어느 정도 해소되어야 주택 투자에 나설 수 있다고 본다.” ※이 인터뷰는 배문성 애널리스트의 개인 의견이며 회사(이스트스프링자산운용)의 입장과는 무관합니다 ⓒ 조선일보 & chosun.com, 무단 전재 및 재배포 금지\n"
          ]
        }
      ]
    },
    {
      "cell_type": "code",
      "source": [
        "characters = len(text)\n",
        "words = re.findall(r'\\b\\w+\\b', text)\n",
        "word_count = len(words)\n",
        "sentences = re.findall(r'[.!?]', text)\n",
        "sentence_count = len(sentences)\n",
        "average_word_length = sum(len(word) for word in words) / word_count\n",
        "average_sentence_length = word_count / sentence_count\n",
        "\n",
        "vowels = \"aeiou\"\n",
        "vowel_count = {vowel: text.lower().count(vowel) for vowel in vowels}\n",
        "total_vowel_count = sum(vowel_count.values())\n",
        "vowel_percentage = total_vowel_count / characters * 100\n",
        "\n",
        "word_frequency = {}\n",
        "for word in words:\n",
        "    word = word.lower()\n",
        "    word_frequency[word] = word_frequency.get(word, 0) + 1\n",
        "\n",
        "print(f\"Total characters: {characters}\")\n",
        "print(f\"Total words: {word_count}\")\n",
        "print(f\"Total sentences: {sentence_count}\")\n",
        "print(f\"Average word length: {average_word_length:.2f}\")\n",
        "print(f\"Average sentence length: {average_sentence_length:.2f}\")\n",
        "print(\"\\nVowel frequencies and percentages:\")\n",
        "for vowel, count in vowel_count.items():\n",
        "    print(f\"{vowel}: {count} ({count/characters * 100:.2f}%)\")\n",
        "print(\"\\nWord frequencies:\")\n",
        "for word, count in word_frequency.items():\n",
        "    print(f\"{word}: {count}\")"
      ],
      "metadata": {
        "id": "BIuzQiR8f6mB",
        "colab": {
          "base_uri": "https://localhost:8080/",
          "height": 248
        },
        "outputId": "ef30d7f9-7ab8-4f7b-b603-1c6ec1a4560d"
      },
      "execution_count": null,
      "outputs": [
        {
          "output_type": "error",
          "ename": "TypeError",
          "evalue": "ignored",
          "traceback": [
            "\u001b[0;31m---------------------------------------------------------------------------\u001b[0m",
            "\u001b[0;31mTypeError\u001b[0m                                 Traceback (most recent call last)",
            "\u001b[0;32m<ipython-input-5-ef102e7e9981>\u001b[0m in \u001b[0;36m<cell line: 6>\u001b[0;34m()\u001b[0m\n\u001b[1;32m      4\u001b[0m \u001b[0msentences\u001b[0m \u001b[0;34m=\u001b[0m \u001b[0mre\u001b[0m\u001b[0;34m.\u001b[0m\u001b[0mfindall\u001b[0m\u001b[0;34m(\u001b[0m\u001b[0;34mr'[.!?]'\u001b[0m\u001b[0;34m,\u001b[0m \u001b[0mtext\u001b[0m\u001b[0;34m)\u001b[0m\u001b[0;34m\u001b[0m\u001b[0;34m\u001b[0m\u001b[0m\n\u001b[1;32m      5\u001b[0m \u001b[0msentence_count\u001b[0m \u001b[0;34m=\u001b[0m \u001b[0mlen\u001b[0m\u001b[0;34m(\u001b[0m\u001b[0msentences\u001b[0m\u001b[0;34m)\u001b[0m\u001b[0;34m\u001b[0m\u001b[0;34m\u001b[0m\u001b[0m\n\u001b[0;32m----> 6\u001b[0;31m \u001b[0maverage_word_length\u001b[0m \u001b[0;34m=\u001b[0m \u001b[0msum\u001b[0m\u001b[0;34m(\u001b[0m\u001b[0mlen\u001b[0m\u001b[0;34m(\u001b[0m\u001b[0mword\u001b[0m\u001b[0;34m)\u001b[0m \u001b[0;32mfor\u001b[0m \u001b[0mword\u001b[0m \u001b[0;32min\u001b[0m \u001b[0mwords\u001b[0m\u001b[0;34m)\u001b[0m \u001b[0;34m/\u001b[0m \u001b[0mword_count\u001b[0m\u001b[0;34m\u001b[0m\u001b[0;34m\u001b[0m\u001b[0m\n\u001b[0m\u001b[1;32m      7\u001b[0m \u001b[0maverage_sentence_length\u001b[0m \u001b[0;34m=\u001b[0m \u001b[0mword_count\u001b[0m \u001b[0;34m/\u001b[0m \u001b[0msentence_count\u001b[0m\u001b[0;34m\u001b[0m\u001b[0;34m\u001b[0m\u001b[0m\n\u001b[1;32m      8\u001b[0m \u001b[0;34m\u001b[0m\u001b[0m\n",
            "\u001b[0;31mTypeError\u001b[0m: 'float' object is not callable"
          ]
        }
      ]
    }
  ]
}