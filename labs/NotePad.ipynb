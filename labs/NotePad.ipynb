{
 "cells": [
  {
   "cell_type": "code",
   "execution_count": 57,
   "outputs": [
    {
     "name": "stdout",
     "output_type": "stream",
     "text": [
      "8.40\n"
     ]
    }
   ],
   "source": [
    "class ShoppingCart:\n",
    "\n",
    "    def __init__(self):\n",
    "        self.__items = {}\n",
    "\n",
    "    def add_item(self, item_name, price, quantity):\n",
    "        if item_name in self.__items:\n",
    "            self.__items[item_name][\"quantity\"] += quantity\n",
    "        else:\n",
    "            self.__items[item_name] = {\"price\": price, \"quantity\": quantity}\n",
    "\n",
    "    def remove_item(self, item_name, quantity):\n",
    "        if item_name in self.__items:\n",
    "            if self.__items[item_name][\"quantity\"] > quantity:\n",
    "                self.__items[item_name][\"quantity\"] -= quantity\n",
    "            else:\n",
    "                del self.__items[item_name]\n",
    "\n",
    "    def get_total_price(self):\n",
    "        total_price = 0\n",
    "        for item in self.__items.values():\n",
    "            total_price += item[\"price\"] * item[\"quantity\"]\n",
    "        return total_price\n",
    "\n",
    "\n",
    "def main():\n",
    "    cart = ShoppingCart()\n",
    "    cart.add_item(\"Apple\", 1.9, 5)\n",
    "    cart.add_item(\"Banana\", 0.9, 3)\n",
    "    cart.add_item(\"Orange\", 2.9, 2)\n",
    "    cart.remove_item(\"Apple\", 2)\n",
    "    cart.remove_item(\"Orange\", 2)\n",
    "\n",
    "    print('{:.2f}'.format(cart.get_total_price()))\n",
    "\n",
    "\n",
    "main()"
   ],
   "metadata": {
    "collapsed": false,
    "ExecuteTime": {
     "start_time": "2023-04-17T12:14:03.303397Z",
     "end_time": "2023-04-17T12:14:03.306389Z"
    }
   }
  },
  {
   "cell_type": "code",
   "execution_count": 52,
   "outputs": [
    {
     "ename": "TypeError",
     "evalue": "TimeSeriesData.__init__() takes 1 positional argument but 2 were given",
     "output_type": "error",
     "traceback": [
      "\u001B[1;31m---------------------------------------------------------------------------\u001B[0m",
      "\u001B[1;31mTypeError\u001B[0m                                 Traceback (most recent call last)",
      "Cell \u001B[1;32mIn[52], line 31\u001B[0m\n\u001B[0;32m     27\u001B[0m     \u001B[38;5;28mprint\u001B[39m(\u001B[38;5;124m'\u001B[39m\u001B[38;5;132;01m{:.2f}\u001B[39;00m\u001B[38;5;124m'\u001B[39m\u001B[38;5;241m.\u001B[39mformat(time_series\u001B[38;5;241m.\u001B[39mget_min_value()))\n\u001B[0;32m     28\u001B[0m     \u001B[38;5;28mprint\u001B[39m(\u001B[38;5;124m'\u001B[39m\u001B[38;5;132;01m{:.2f}\u001B[39;00m\u001B[38;5;124m'\u001B[39m\u001B[38;5;241m.\u001B[39mformat(time_series\u001B[38;5;241m.\u001B[39mget_average_value()))\n\u001B[1;32m---> 31\u001B[0m \u001B[43mmain\u001B[49m\u001B[43m(\u001B[49m\u001B[43m)\u001B[49m\n",
      "Cell \u001B[1;32mIn[52], line 25\u001B[0m, in \u001B[0;36mmain\u001B[1;34m()\u001B[0m\n\u001B[0;32m     22\u001B[0m \u001B[38;5;28;01mdef\u001B[39;00m \u001B[38;5;21mmain\u001B[39m():\n\u001B[0;32m     23\u001B[0m     data \u001B[38;5;241m=\u001B[39m [(\u001B[38;5;124m\"\u001B[39m\u001B[38;5;124m2023-01-01\u001B[39m\u001B[38;5;124m\"\u001B[39m, \u001B[38;5;241m1.0\u001B[39m), (\u001B[38;5;124m\"\u001B[39m\u001B[38;5;124m2023-01-02\u001B[39m\u001B[38;5;124m\"\u001B[39m, \u001B[38;5;241m2.0\u001B[39m), (\u001B[38;5;124m\"\u001B[39m\u001B[38;5;124m2023-01-03\u001B[39m\u001B[38;5;124m\"\u001B[39m, \u001B[38;5;241m3.0\u001B[39m), (\u001B[38;5;124m\"\u001B[39m\u001B[38;5;124m2023-01-04\u001B[39m\u001B[38;5;124m\"\u001B[39m, \u001B[38;5;241m2.5\u001B[39m)]\n\u001B[1;32m---> 25\u001B[0m     time_series \u001B[38;5;241m=\u001B[39m \u001B[43mTimeSeriesData\u001B[49m\u001B[43m(\u001B[49m\u001B[43mdata\u001B[49m\u001B[43m)\u001B[49m\n\u001B[0;32m     26\u001B[0m     \u001B[38;5;28mprint\u001B[39m(\u001B[38;5;124m'\u001B[39m\u001B[38;5;132;01m{:.2f}\u001B[39;00m\u001B[38;5;124m'\u001B[39m\u001B[38;5;241m.\u001B[39mformat(time_series\u001B[38;5;241m.\u001B[39mget_max_value()))\n\u001B[0;32m     27\u001B[0m     \u001B[38;5;28mprint\u001B[39m(\u001B[38;5;124m'\u001B[39m\u001B[38;5;132;01m{:.2f}\u001B[39;00m\u001B[38;5;124m'\u001B[39m\u001B[38;5;241m.\u001B[39mformat(time_series\u001B[38;5;241m.\u001B[39mget_min_value()))\n",
      "\u001B[1;31mTypeError\u001B[0m: TimeSeriesData.__init__() takes 1 positional argument but 2 were given"
     ]
    }
   ],
   "source": [
    "class TimeSeriesData:\n",
    "    pass\n",
    "\n",
    "\n",
    "def main():\n",
    "    data = [(\"2023-01-01\", 1.0), (\"2023-01-02\", 2.0), (\"2023-01-03\", 3.0), (\"2023-01-04\", 2.5)]\n",
    "\n",
    "    time_series = TimeSeriesData(data)\n",
    "    print('{:.2f}'.format(time_series.get_max_value()))\n",
    "    print('{:.2f}'.format(time_series.get_min_value()))\n",
    "    print('{:.2f}'.format(time_series.get_average_value()))\n",
    "\n",
    "\n",
    "main()"
   ],
   "metadata": {
    "collapsed": false
   }
  },
  {
   "cell_type": "code",
   "execution_count": 60,
   "outputs": [
    {
     "ename": "ModuleNotFoundError",
     "evalue": "No module named 'matplotlib'",
     "output_type": "error",
     "traceback": [
      "\u001B[1;31m---------------------------------------------------------------------------\u001B[0m",
      "\u001B[1;31mModuleNotFoundError\u001B[0m                       Traceback (most recent call last)",
      "Cell \u001B[1;32mIn[60], line 1\u001B[0m\n\u001B[1;32m----> 1\u001B[0m \u001B[38;5;28;01mimport\u001B[39;00m \u001B[38;5;21;01mmatplotlib\u001B[39;00m\u001B[38;5;21;01m.\u001B[39;00m\u001B[38;5;21;01mpyplot\u001B[39;00m \u001B[38;5;28;01mas\u001B[39;00m \u001B[38;5;21;01mplt\u001B[39;00m\n",
      "\u001B[1;31mModuleNotFoundError\u001B[0m: No module named 'matplotlib'"
     ]
    }
   ],
   "source": [
    "# First, you can use the matplotlib, numpy, and sklearn modules\n",
    "import matplotlib.pyplot as plt\n",
    "import numpy as np\n",
    "from sklearn.linear_model import LinearRegression\n",
    "\n",
    "\n",
    "class SimpleLinearRegression():  # ax + b = 0\n",
    "    def __init__(self,x,y):\n",
    "        self\n",
    "\n",
    "\n",
    "# secondly, you can use the least-squares estimation method,\n",
    "# you can find the best-fitting line by calculating\n",
    "# the slope (a) and intercept (b) using these formulas:\n",
    "\n",
    "# Slope (a):\n",
    "# a = (Σ(x*y) - n * mean(x) * mean(y)) / (Σ(x^2) - n * mean(x)^2)\n",
    "\n",
    "# Intercept (b): # y 절편\n",
    "# b = mean(y) - a * mean(x)\n",
    "\n",
    "def main():\n",
    "    x = [1, 2, 3, 4, 5, 6, 7, 8]\n",
    "    y = [2, 4, 5, 4, 5, 5, 8, 6]\n",
    "\n",
    "    regression = SimpleLinearRegression(x, y)\n",
    "    print('{:.2f}'.format(regression.get_slope()))  # a\n",
    "    print('{:.2f}'.format(regression.get_intercept()))  # b\n",
    "    print('{:.2f}'.format(regression.predict(6)))\n",
    "\n",
    "    regression.show_plot()\n",
    "\n",
    "    # regression2 = SimpleLinearRegression2(x, y)\n",
    "    # print('{:.2f}'.format(regression2.get_slope()))          # a\n",
    "    # print('{:.2f}'.format(regression2.get_intercept()))      # b\n",
    "    # print('{:.2f}'.format(regression2.predict(6)))\n",
    "\n",
    "    # regression2.show_plot()\n",
    "\n",
    "\n",
    "main()"
   ],
   "metadata": {
    "collapsed": false
   }
  }
 ],
 "metadata": {
  "kernelspec": {
   "display_name": "Python 3",
   "language": "python",
   "name": "python3"
  },
  "language_info": {
   "codemirror_mode": {
    "name": "ipython",
    "version": 2
   },
   "file_extension": ".py",
   "mimetype": "text/x-python",
   "name": "python",
   "nbconvert_exporter": "python",
   "pygments_lexer": "ipython2",
   "version": "2.7.6"
  }
 },
 "nbformat": 4,
 "nbformat_minor": 0
}
