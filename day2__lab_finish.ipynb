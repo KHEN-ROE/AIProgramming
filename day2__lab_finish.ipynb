{
  "nbformat": 4,
  "nbformat_minor": 0,
  "metadata": {
    "colab": {
      "provenance": [],
      "toc_visible": true
    },
    "kernelspec": {
      "name": "python3",
      "display_name": "Python 3"
    },
    "language_info": {
      "name": "python"
    }
  },
  "cells": [
    {
      "cell_type": "markdown",
      "source": [
        "# Lab3"
      ],
      "metadata": {
        "id": "ZYJeA4fpcGNk"
      }
    },
    {
      "cell_type": "markdown",
      "source": [
        "1. Write a program that takes a number from the user and determines whether it's even or odd.\n",
        "\n",
        "\toutput: odd or even\n",
        "\n",
        "\n"
      ],
      "metadata": {
        "id": "0AZqhmeccW7p"
      }
    },
    {
      "cell_type": "code",
      "source": [
        "num = int(input('input number')) #even - 짝수, odd - 홀수\n",
        "if num % 2 ==0:\n",
        "    print('even')\n",
        "else:\n",
        "    print('odd')"
      ],
      "metadata": {
        "id": "SBUQ1WRTc1Nz",
        "colab": {
          "base_uri": "https://localhost:8080/"
        },
        "outputId": "b496de45-b07a-45e2-ae5b-d7cf031d0557"
      },
      "execution_count": null,
      "outputs": [
        {
          "output_type": "stream",
          "name": "stdout",
          "text": [
            "input num2\n",
            "even\n"
          ]
        }
      ]
    },
    {
      "cell_type": "markdown",
      "source": [
        "2. Write a program that takes three numbers from the user and determines the largest of the three.\n",
        "\n",
        "\n"
      ],
      "metadata": {
        "id": "mGbPfQJEc5pl"
      }
    },
    {
      "cell_type": "code",
      "source": [
        "lst = []\n",
        "num1 = int(input('input first number'))\n",
        "num2 = int(input('input second number'))\n",
        "num3 = int(input('input third number'))\n",
        "\n",
        "lst.append(num1)\n",
        "lst.append(num2)\n",
        "lst.append(num3)\n",
        "\n",
        "maxNum = lst[0]\n",
        "for i in lst:\n",
        "    if i > maxNum:\n",
        "        maxNum = i\n",
        "print(maxNum)"
      ],
      "metadata": {
        "id": "mGAC-9rSc7Qd",
        "colab": {
          "base_uri": "https://localhost:8080/"
        },
        "outputId": "f63c210b-7369-4fe5-bb56-c844270ec642"
      },
      "execution_count": null,
      "outputs": [
        {
          "output_type": "stream",
          "name": "stdout",
          "text": [
            "input first number1\n",
            "input second number2\n",
            "input third number3\n",
            "3\n"
          ]
        }
      ]
    },
    {
      "cell_type": "markdown",
      "source": [
        "\n",
        "3. Write a program that reads an integer as input and determines if it is a multiple of both 3 and 5.\n",
        "\n",
        "\toutput: multiple or not multiple\n",
        "\n"
      ],
      "metadata": {
        "id": "INqFk2K5c7ks"
      }
    },
    {
      "cell_type": "code",
      "source": [
        "num = int(input(\"input number\"))\n",
        "if num % 3 == 0 and num % 5 == 0:\n",
        "    print('multiple')\n",
        "else:\n",
        "    print('not multiple')"
      ],
      "metadata": {
        "id": "B2c46qWfc8z0",
        "colab": {
          "base_uri": "https://localhost:8080/"
        },
        "outputId": "743a2080-a84a-46ae-8017-0cbc81ec19ec"
      },
      "execution_count": null,
      "outputs": [
        {
          "output_type": "stream",
          "name": "stdout",
          "text": [
            "input number5\n",
            "not multiple\n"
          ]
        }
      ]
    },
    {
      "cell_type": "markdown",
      "source": [
        "\n",
        "4. Write a Python program that takes three numbers as input and determines whether they form a Pythagorean triple.\n",
        "\n",
        "\toutput: pythagorean or not pythagorean"
      ],
      "metadata": {
        "id": "jAEoPcBXc9kM"
      }
    },
    {
      "cell_type": "code",
      "source": [
        "lst = []\n",
        "num1 = int(input('input num1'))\n",
        "num2 = int(input('input num2'))\n",
        "num3 = int(input('input num3'))\n",
        "lst.append(num1)\n",
        "lst.append(num2)\n",
        "lst.append(num3)\n",
        "\n",
        "maxNum = lst[0]\n",
        "for i in lst:\n",
        "    if i > maxNum:\n",
        "        maxNum = i\n",
        "maxNumSQ = maxNum**2\n",
        "\n",
        "sum = 0\n",
        "for i in lst:\n",
        "    if i != maxNum:\n",
        "        sum += i**2\n",
        "\n",
        "if maxNumSQ == sum:\n",
        "    print('pythagorean')\n",
        "else:\n",
        "    print('not pythagorean')\n",
        "\n"
      ],
      "metadata": {
        "id": "nJN7nZ1Nc-ad",
        "colab": {
          "base_uri": "https://localhost:8080/"
        },
        "outputId": "91621636-3a99-44e3-ebcb-09e5078b62aa"
      },
      "execution_count": null,
      "outputs": [
        {
          "output_type": "stream",
          "name": "stdout",
          "text": [
            "input num11\n",
            "input num22\n",
            "input num33\n",
            "not pythagorean\n"
          ]
        }
      ]
    },
    {
      "cell_type": "markdown",
      "source": [
        "5. Write a Python program that takes a user's weight and height as input and calculates their body mass index (BMI). \n",
        "\n",
        "\toutput: < 18.5 : underweight, 18.5 - 24.9 normal weight, <= 25.0 overweight\n",
        "\n",
        "\n",
        "\n",
        "\n"
      ],
      "metadata": {
        "id": "EkRNBCyLctUY"
      }
    },
    {
      "cell_type": "code",
      "source": [
        "weight = float(input(\"your weight\"))\n",
        "height = float(input(\"your height\"))\n",
        "#bmi - 몸무게 / 키^2\n",
        "\n",
        "bmi = float(weight / float(height**2))\n",
        "\n",
        "if bmi < 18.5:\n",
        "    print('underweight')\n",
        "elif bmi > 18.5 and bmi < 24.9:\n",
        "    print('normal')\n",
        "else:\n",
        "    print('overweight')\n",
        "\n"
      ],
      "metadata": {
        "id": "BxdeHEF_cB3C"
      },
      "execution_count": null,
      "outputs": []
    },
    {
      "cell_type": "markdown",
      "source": [
        "6. Write a Python program that takes two strings as input and determines whether they are anagrams. If the two strings are anagrams (i.e., they have the same letters in a different order)\n",
        "\n",
        "  output: anagrams or not anagrams"
      ],
      "metadata": {
        "id": "tdJa-fe6Lu_N"
      }
    },
    {
      "cell_type": "code",
      "source": [
        "word1 = input(\"word1\")\n",
        "word2 = input(\"word2\")\n",
        "\n",
        "word1 = ''.sort(word1)\n",
        "word2 = ''.sort(word2)\n",
        "\n",
        "\n",
        "if word1 == word2:\n",
        "    print('anagrams')\n",
        "else:\n",
        "    print('not anagrams')"
      ],
      "metadata": {
        "id": "4CuQ-rftL-3y"
      },
      "execution_count": null,
      "outputs": []
    },
    {
      "cell_type": "markdown",
      "source": [
        "# Lab4"
      ],
      "metadata": {
        "id": "9fgcLU2reahl"
      }
    },
    {
      "cell_type": "markdown",
      "source": [
        "1. Write a program to find the sum of all numbers between 1 and 100 that are divisible by 7 using a while loop."
      ],
      "metadata": {
        "id": "dI9p5_rNec8G"
      }
    },
    {
      "cell_type": "code",
      "source": [
        "sum = 0;\n",
        "for i in range(1, 101):\n",
        "    if i % 7==0:\n",
        "       sum += i"
      ],
      "metadata": {
        "id": "nvheaxJOedT9"
      },
      "execution_count": null,
      "outputs": []
    },
    {
      "cell_type": "markdown",
      "source": [
        "2. Write a program that prints the multiplication table for a given number using a for loop."
      ],
      "metadata": {
        "id": "wDOVnwLTee8p"
      }
    },
    {
      "cell_type": "code",
      "source": [
        "num = int(input(\"input num\"))\n",
        "for i in range(num, num+1):\n",
        "    for j in range(1, 10):\n",
        "        print(i , '*' , j , '=' , i * j)\n"
      ],
      "metadata": {
        "id": "YeC_cgT3ee8q"
      },
      "execution_count": null,
      "outputs": []
    },
    {
      "cell_type": "markdown",
      "source": [
        "3. Write a program that reads a positive integer and checks if it's a prime number using a for loop."
      ],
      "metadata": {
        "id": "J5zjEzX3efP0"
      }
    },
    {
      "cell_type": "code",
      "source": [
        "num = int(input(\"input positive integer\"))\n",
        "\n",
        "if num < 0:\n",
        "    print(\"input only positive integer\")\n",
        "elif num < 2:\n",
        "    print(\"not a prime number\")\n",
        "else:\n",
        "    i = 2\n",
        "    while True:\n",
        "        if num % i == 0:\n",
        "            print(\"not a prime num\")\n",
        "            break\n",
        "        else:\n",
        "            print(\"prime num\")\n",
        "            break\n",
        "        i = i + 1"
      ],
      "metadata": {
        "id": "Q7DxZNeGefP0"
      },
      "execution_count": null,
      "outputs": []
    },
    {
      "cell_type": "markdown",
      "source": [
        "4. Write a program that reads a string and reverses it using a loop. The program should also count and display the number of vowels in the string.\n"
      ],
      "metadata": {
        "id": "P5k8YQd9dmUT"
      }
    },
    {
      "cell_type": "code",
      "source": [
        "str = input(\"input str\")\n",
        "str1=\"\"\n",
        "vowel = ['a','e','i','o','u']\n",
        "for i in range(len(str)-1, -1, -1): # -1까지 찍는 이유? 맨첨문자 안찍으므로. -1해서 맨 뒤로 다시 돌아감\n",
        "    str1 += str[i]\n",
        "\n",
        "cnt = 0\n",
        "for i in str1:\n",
        "    for j in vowel:\n",
        "        if i==j:\n",
        "            cnt = cnt + 1\n",
        "print(cnt)"
      ],
      "metadata": {
        "id": "EBIwt03Kdnpp",
        "colab": {
          "base_uri": "https://localhost:8080/"
        },
        "outputId": "c1e594d0-cfed-4dce-ed5e-dd59e496b3d3"
      },
      "execution_count": null,
      "outputs": [
        {
          "output_type": "stream",
          "name": "stdout",
          "text": [
            "input strhello\n",
            "2\n"
          ]
        }
      ]
    },
    {
      "cell_type": "markdown",
      "source": [
        "5. Write a program that prints the following patterns using loops:\n",
        "\n",
        "```\n",
        "*****\n",
        " ****\n",
        "  ***\n",
        "   **\n",
        "    *\n",
        "```"
      ],
      "metadata": {
        "id": "mPv8F8IDdsNB"
      }
    },
    {
      "cell_type": "code",
      "source": [
        "#for i in range(5):\n",
        "#    print(\" \" * i + \"*\" * (5-i)) # \" \" * i 는 공백의 개수, 5-i는 역순으로 별의 개수 찍겠다는 뜻\n",
        "\n",
        "for i in range(5):\n",
        "    print(\" \" * i + \"*\" * (5-i))"
      ],
      "metadata": {
        "id": "tXDgAKGadyDx",
        "colab": {
          "base_uri": "https://localhost:8080/"
        },
        "outputId": "5740a1fb-714f-4722-b639-e59e3dd64f7f"
      },
      "execution_count": null,
      "outputs": [
        {
          "output_type": "stream",
          "name": "stdout",
          "text": [
            "*****\n",
            " ****\n",
            "  ***\n",
            "   **\n",
            "    *\n"
          ]
        }
      ]
    },
    {
      "cell_type": "markdown",
      "source": [
        "6. Create a shopping list program that allows the user to add item names to the list, remove items, and display the list using loops. The program should continuously ask the user for input until they choose to exit.\n",
        "\n",
        "\n",
        "```\n",
        "Choose an option:\n",
        "1. Add item name\n",
        "2. Remove item by name\n",
        "3. Display list\n",
        "4. Exit\n",
        "```\n"
      ],
      "metadata": {
        "id": "aTfwJbtWeNxR"
      }
    },
    {
      "cell_type": "code",
      "source": [
        "userList = []\n",
        "while True:\n",
        "    choice = int(input(\"Choose an option:\\n1. Add item name \\n2. Remove item by name \\n3. Display list \\n4. Exit\\n\"))\n",
        "\n",
        "    if choice == 1:\n",
        "        itemName = input(\"input item name to add to list\")\n",
        "        userList.append(itemName)\n",
        "        print(\"added successfully\")\n",
        "\n",
        "    elif choice == 2:\n",
        "        itemName = input(\"input item name to remove from your list\")\n",
        "        userList.remove(itemName)\n",
        "        print(\"removed successfully\")\n",
        "\n",
        "    elif choice == 3:\n",
        "        print(\"list : \", userList)\n",
        "    \n",
        "    elif choice == 4:\n",
        "        print(\"list : \", userList)\n",
        "        break\n"
      ],
      "metadata": {
        "id": "APNy8a6ZeO6l",
        "colab": {
          "base_uri": "https://localhost:8080/",
          "height": 505
        },
        "outputId": "1298085d-9b1a-409b-8da5-284240bb9bf4"
      },
      "execution_count": null,
      "outputs": [
        {
          "name": "stdout",
          "output_type": "stream",
          "text": [
            "Choose an option:\n",
            "1. Add item name \n",
            "2. Remove item by name \n",
            "3. Display list \n",
            "4. Exit\n",
            "1\n",
            "input item name to add to listjean\n",
            "Choose an option:\n",
            "1. Add item name \n",
            "2. Remove item by name \n",
            "3. Display list \n",
            "4. Exit\n",
            "2\n",
            "input item name to remove from your listjean\n"
          ]
        },
        {
          "output_type": "error",
          "ename": "ValueError",
          "evalue": "ignored",
          "traceback": [
            "\u001b[0;31m---------------------------------------------------------------------------\u001b[0m",
            "\u001b[0;31mValueError\u001b[0m                                Traceback (most recent call last)",
            "\u001b[0;32m<ipython-input-20-cb90a9aa0eda>\u001b[0m in \u001b[0;36m<cell line: 2>\u001b[0;34m()\u001b[0m\n\u001b[1;32m      7\u001b[0m     \u001b[0;32melif\u001b[0m \u001b[0mchoice\u001b[0m \u001b[0;34m==\u001b[0m \u001b[0;36m2\u001b[0m\u001b[0;34m:\u001b[0m\u001b[0;34m\u001b[0m\u001b[0;34m\u001b[0m\u001b[0m\n\u001b[1;32m      8\u001b[0m         \u001b[0mitemName\u001b[0m \u001b[0;34m=\u001b[0m \u001b[0minput\u001b[0m\u001b[0;34m(\u001b[0m\u001b[0;34m\"input item name to remove from your list\"\u001b[0m\u001b[0;34m)\u001b[0m\u001b[0;34m\u001b[0m\u001b[0;34m\u001b[0m\u001b[0m\n\u001b[0;32m----> 9\u001b[0;31m         \u001b[0muserList\u001b[0m\u001b[0;34m.\u001b[0m\u001b[0mremove\u001b[0m\u001b[0;34m(\u001b[0m\u001b[0mitemName\u001b[0m\u001b[0;34m)\u001b[0m\u001b[0;34m\u001b[0m\u001b[0;34m\u001b[0m\u001b[0m\n\u001b[0m\u001b[1;32m     10\u001b[0m \u001b[0;34m\u001b[0m\u001b[0m\n\u001b[1;32m     11\u001b[0m \u001b[0;34m\u001b[0m\u001b[0m\n",
            "\u001b[0;31mValueError\u001b[0m: list.remove(x): x not in list"
          ]
        }
      ]
    }
  ]
}