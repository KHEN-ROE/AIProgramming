{
  "nbformat": 4,
  "nbformat_minor": 0,
  "metadata": {
    "colab": {
      "provenance": [],
      "toc_visible": true
    },
    "kernelspec": {
      "name": "python3",
      "display_name": "Python 3"
    },
    "language_info": {
      "name": "python"
    }
  },
  "cells": [
    {
      "cell_type": "markdown",
      "source": [
        "# Lab3"
      ],
      "metadata": {
        "id": "ZYJeA4fpcGNk"
      }
    },
    {
      "cell_type": "markdown",
      "source": [
        "1. Write a program that takes a number from the user and determines whether it's even or odd.\n",
        "\n",
        "\toutput: odd or even\n",
        "\n",
        "\n"
      ],
      "metadata": {
        "id": "0AZqhmeccW7p"
      }
    },
    {
      "cell_type": "code",
      "source": [
        "num = int(input('input number')) #even - 짝수, odd - 홀수\n",
        "if num % 2 ==0:\n",
        "    print('even')\n",
        "else:\n",
        "    print('odd')"
      ],
      "metadata": {
        "id": "SBUQ1WRTc1Nz",
        "colab": {
          "base_uri": "https://localhost:8080/"
        },
        "outputId": "b496de45-b07a-45e2-ae5b-d7cf031d0557"
      },
      "execution_count": 2,
      "outputs": [
        {
          "output_type": "stream",
          "name": "stdout",
          "text": [
            "input num2\n",
            "even\n"
          ]
        }
      ]
    },
    {
      "cell_type": "markdown",
      "source": [
        "2. Write a program that takes three numbers from the user and determines the largest of the three.\n",
        "\n",
        "\n"
      ],
      "metadata": {
        "id": "mGbPfQJEc5pl"
      }
    },
    {
      "cell_type": "code",
      "source": [
        "lst = []\n",
        "num1 = int(input('input first number'))\n",
        "num2 = int(input('input second number'))\n",
        "num3 = int(input('input third number'))\n",
        "\n",
        "lst.append(num1)\n",
        "lst.append(num2)\n",
        "lst.append(num3)\n",
        "\n",
        "maxNum = lst[0]\n",
        "for i in lst:\n",
        "    if i > maxNum:\n",
        "        maxNum = i\n",
        "print(maxNum)"
      ],
      "metadata": {
        "id": "mGAC-9rSc7Qd",
        "colab": {
          "base_uri": "https://localhost:8080/"
        },
        "outputId": "f63c210b-7369-4fe5-bb56-c844270ec642"
      },
      "execution_count": 30,
      "outputs": [
        {
          "output_type": "stream",
          "name": "stdout",
          "text": [
            "input first number1\n",
            "input second number2\n",
            "input third number3\n",
            "3\n"
          ]
        }
      ]
    },
    {
      "cell_type": "markdown",
      "source": [
        "\n",
        "3. Write a program that reads an integer as input and determines if it is a multiple of both 3 and 5.\n",
        "\n",
        "\toutput: multiple or not multiple\n",
        "\n"
      ],
      "metadata": {
        "id": "INqFk2K5c7ks"
      }
    },
    {
      "cell_type": "code",
      "source": [
        "num = int(input(\"input number\"))\n",
        "if num % 3 == 0 and num % 5 == 0:\n",
        "    print('multiple')\n",
        "else:\n",
        "    print('not multiple')"
      ],
      "metadata": {
        "id": "B2c46qWfc8z0",
        "colab": {
          "base_uri": "https://localhost:8080/"
        },
        "outputId": "743a2080-a84a-46ae-8017-0cbc81ec19ec"
      },
      "execution_count": 25,
      "outputs": [
        {
          "output_type": "stream",
          "name": "stdout",
          "text": [
            "input number5\n",
            "not multiple\n"
          ]
        }
      ]
    },
    {
      "cell_type": "markdown",
      "source": [
        "\n",
        "4. Write a Python program that takes three numbers as input and determines whether they form a Pythagorean triple.\n",
        "\n",
        "\toutput: pythagorean or not pythagorean"
      ],
      "metadata": {
        "id": "jAEoPcBXc9kM"
      }
    },
    {
      "cell_type": "code",
      "source": [
        "lst = []\n",
        "num1 = int(input('input num1'))\n",
        "num2 = int(input('input num2'))\n",
        "num3 = int(input('input num3'))\n",
        "lst.append(num1)\n",
        "lst.append(num2)\n",
        "lst.append(num3)\n",
        "\n",
        "maxNum = lst[0]\n",
        "for i in lst:\n",
        "    if i > maxNum:\n",
        "        maxNum = i\n",
        "maxNumSQ = maxNum**2\n",
        "\n",
        "sum = 0\n",
        "for i in lst:\n",
        "    if i != maxNum:\n",
        "        sum += i**2\n",
        "\n",
        "if maxNumSQ == sum:\n",
        "    print('pythagorean')\n",
        "else:\n",
        "    print('not pythagorean')\n",
        "\n"
      ],
      "metadata": {
        "id": "nJN7nZ1Nc-ad",
        "colab": {
          "base_uri": "https://localhost:8080/"
        },
        "outputId": "91621636-3a99-44e3-ebcb-09e5078b62aa"
      },
      "execution_count": 32,
      "outputs": [
        {
          "output_type": "stream",
          "name": "stdout",
          "text": [
            "input num11\n",
            "input num22\n",
            "input num33\n",
            "not pythagorean\n"
          ]
        }
      ]
    },
    {
      "cell_type": "markdown",
      "source": [
        "5. Write a Python program that takes a user's weight and height as input and calculates their body mass index (BMI). \n",
        "\n",
        "\toutput: < 18.5 : underweight, 18.5 - 24.9 normal weight, <= 25.0 overweight\n",
        "\n",
        "\n",
        "\n",
        "\n"
      ],
      "metadata": {
        "id": "EkRNBCyLctUY"
      }
    },
    {
      "cell_type": "code",
      "source": [
        "weight = float(input(\"your weight\"))\n",
        "height = float(input(\"your height\"))\n",
        "#bmi - 몸무게 / 키^2\n",
        "\n",
        "bmi = float(weight / float(height**2))\n",
        "\n",
        "if bmi < 18.5:\n",
        "    print('underweight')\n",
        "elif bmi > 18.5 and bmi < 24.9:\n",
        "    print('normal')\n",
        "else:\n",
        "    print('overweight')\n",
        "\n"
      ],
      "metadata": {
        "id": "BxdeHEF_cB3C"
      },
      "execution_count": null,
      "outputs": []
    },
    {
      "cell_type": "markdown",
      "source": [
        "6. Write a Python program that takes two strings as input and determines whether they are anagrams. If the two strings are anagrams (i.e., they have the same letters in a different order)\n",
        "\n",
        "  output: anagrams or not anagrams"
      ],
      "metadata": {
        "id": "tdJa-fe6Lu_N"
      }
    },
    {
      "cell_type": "code",
      "source": [],
      "metadata": {
        "id": "4CuQ-rftL-3y"
      },
      "execution_count": null,
      "outputs": []
    },
    {
      "cell_type": "markdown",
      "source": [
        "# Lab4"
      ],
      "metadata": {
        "id": "9fgcLU2reahl"
      }
    },
    {
      "cell_type": "markdown",
      "source": [
        "1. Write a program to find the sum of all numbers between 1 and 100 that are divisible by 7 using a while loop."
      ],
      "metadata": {
        "id": "dI9p5_rNec8G"
      }
    },
    {
      "cell_type": "code",
      "source": [],
      "metadata": {
        "id": "nvheaxJOedT9"
      },
      "execution_count": null,
      "outputs": []
    },
    {
      "cell_type": "markdown",
      "source": [
        "2. Write a program that prints the multiplication table for a given number using a for loop."
      ],
      "metadata": {
        "id": "wDOVnwLTee8p"
      }
    },
    {
      "cell_type": "code",
      "source": [],
      "metadata": {
        "id": "YeC_cgT3ee8q"
      },
      "execution_count": null,
      "outputs": []
    },
    {
      "cell_type": "markdown",
      "source": [
        "3. Write a program that reads a positive integer and checks if it's a prime number using a for loop."
      ],
      "metadata": {
        "id": "J5zjEzX3efP0"
      }
    },
    {
      "cell_type": "code",
      "source": [],
      "metadata": {
        "id": "Q7DxZNeGefP0"
      },
      "execution_count": null,
      "outputs": []
    },
    {
      "cell_type": "markdown",
      "source": [
        "4. Write a program that reads a string and reverses it using a loop. The program should also count and display the number of vowels in the string.\n"
      ],
      "metadata": {
        "id": "P5k8YQd9dmUT"
      }
    },
    {
      "cell_type": "code",
      "source": [],
      "metadata": {
        "id": "EBIwt03Kdnpp"
      },
      "execution_count": null,
      "outputs": []
    },
    {
      "cell_type": "markdown",
      "source": [
        "5. Write a program that prints the following patterns using loops:\n",
        "\n",
        "```\n",
        "*****\n",
        " ****\n",
        "  ***\n",
        "   **\n",
        "    *\n",
        "```"
      ],
      "metadata": {
        "id": "mPv8F8IDdsNB"
      }
    },
    {
      "cell_type": "code",
      "source": [],
      "metadata": {
        "id": "tXDgAKGadyDx"
      },
      "execution_count": null,
      "outputs": []
    },
    {
      "cell_type": "markdown",
      "source": [
        "6. Create a shopping list program that allows the user to add item names to the list, remove items, and display the list using loops. The program should continuously ask the user for input until they choose to exit.\n",
        "\n",
        "\n",
        "```\n",
        "Choose an option:\n",
        "1. Add item name\n",
        "2. Remove item by name\n",
        "3. Display list\n",
        "4. Exit\n",
        "```\n"
      ],
      "metadata": {
        "id": "aTfwJbtWeNxR"
      }
    },
    {
      "cell_type": "code",
      "source": [],
      "metadata": {
        "id": "APNy8a6ZeO6l"
      },
      "execution_count": null,
      "outputs": []
    }
  ]
}