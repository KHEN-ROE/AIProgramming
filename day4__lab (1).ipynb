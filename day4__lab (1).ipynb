{
  "nbformat": 4,
  "nbformat_minor": 0,
  "metadata": {
    "colab": {
      "provenance": []
    },
    "kernelspec": {
      "name": "python3",
      "display_name": "Python 3"
    },
    "language_info": {
      "name": "python"
    }
  },
  "cells": [
    {
      "cell_type": "markdown",
      "source": [
        "# Lab7"
      ],
      "metadata": {
        "id": "ZYJeA4fpcGNk"
      }
    },
    {
      "cell_type": "markdown",
      "source": [
        "## 0. Prerequisite"
      ],
      "metadata": {
        "id": "0AZqhmeccW7p"
      }
    },
    {
      "cell_type": "code",
      "source": [
        "!pip install mypy\n",
        "from IPython.core.magic import register_cell_magic\n",
        "from IPython import get_ipython\n",
        "from mypy import api\n",
        "\n",
        "@register_cell_magic\n",
        "def mypy(line, cell):\n",
        "  for output in api.run(['-c', '\\n' + cell] + line.split()):\n",
        "    if output and not output.startswith('Success'):\n",
        "      raise TypeError(output)\n",
        "  get_ipython().run_cell(cell)"
      ],
      "metadata": {
        "colab": {
          "base_uri": "https://localhost:8080/"
        },
        "id": "gyxzozzA4prN",
        "outputId": "bf135f40-4cb8-42c1-8652-3619e74d4470"
      },
      "execution_count": 3,
      "outputs": [
        {
          "output_type": "stream",
          "name": "stdout",
          "text": [
            "Looking in indexes: https://pypi.org/simple, https://us-python.pkg.dev/colab-wheels/public/simple/\n",
            "Collecting mypy\n",
            "  Downloading mypy-1.2.0-cp39-cp39-manylinux_2_17_x86_64.manylinux2014_x86_64.whl (12.2 MB)\n",
            "\u001b[2K     \u001b[90m━━━━━━━━━━━━━━━━━━━━━━━━━━━━━━━━━━━━━━━━\u001b[0m \u001b[32m12.2/12.2 MB\u001b[0m \u001b[31m71.7 MB/s\u001b[0m eta \u001b[36m0:00:00\u001b[0m\n",
            "\u001b[?25hRequirement already satisfied: typing-extensions>=3.10 in /usr/local/lib/python3.9/dist-packages (from mypy) (4.5.0)\n",
            "Collecting mypy-extensions>=1.0.0\n",
            "  Downloading mypy_extensions-1.0.0-py3-none-any.whl (4.7 kB)\n",
            "Requirement already satisfied: tomli>=1.1.0 in /usr/local/lib/python3.9/dist-packages (from mypy) (2.0.1)\n",
            "Installing collected packages: mypy-extensions, mypy\n",
            "Successfully installed mypy-1.2.0 mypy-extensions-1.0.0\n"
          ]
        }
      ]
    },
    {
      "cell_type": "markdown",
      "source": [
        "## 1. Write a function is_even_or_odd(n: int) -> str that takes an integer as input and determines whether it's even or odd.\n",
        "\n",
        "\n"
      ],
      "metadata": {
        "id": "AL3MoBZO5NpL"
      }
    },
    {
      "cell_type": "code",
      "source": [
        "%%mypy\n",
        "\n",
        "\n",
        "def is_even_or_odd(n):\n",
        "  #implement your code\n",
        "    if n % 2 == 0:\n",
        "        return 'Even'\n",
        "    else:\n",
        "        return 'Odd'\n",
        "    \n",
        "input_data_even_odd = [5, 2, -3, -4, 0]\n",
        "output_data_even_odd = [\"Odd\", \"Even\", \"Odd\", \"Even\", \"Even\"]\n",
        "for i, o in zip(input_data_even_odd, output_data_even_odd):\n",
        "    assert is_even_or_odd(i) == o"
      ],
      "metadata": {
        "id": "SBUQ1WRTc1Nz"
      },
      "execution_count": 37,
      "outputs": []
    },
    {
      "cell_type": "markdown",
      "source": [
        "## 2. Write a function largest_of_three(a: int, b: int, c: int) -> int that takes three numbers as input and determines the largest of the three."
      ],
      "metadata": {
        "id": "mGbPfQJEc5pl"
      }
    },
    {
      "cell_type": "code",
      "source": [
        "%%mypy\n",
        "\n",
        "def largest_of_three(a: int, b: int, c: int) -> int:\n",
        "    #implement your code\n",
        "    maxNum = 0\n",
        "    if a < b:\n",
        "        maxNum = b\n",
        "    elif b < c:\n",
        "        maxNum = c\n",
        "\n",
        "input_data_largest_of_three = [(2, 4, 1), (1, 1, 1), (2, 2, 5), (-1, 0, -2)]\n",
        "output_data_largest_of_three = [4, 1, 5, 0]\n",
        "\n",
        "for i, o in zip(input_data_largest_of_three, output_data_largest_of_three):\n",
        "    assert largest_of_three(*i) == o"
      ],
      "metadata": {
        "id": "mGAC-9rSc7Qd",
        "colab": {
          "base_uri": "https://localhost:8080/",
          "height": 345
        },
        "outputId": "7437438a-a50a-44f3-e6af-50916c51ccc2"
      },
      "execution_count": 36,
      "outputs": [
        {
          "output_type": "error",
          "ename": "TypeError",
          "evalue": "ignored",
          "traceback": [
            "\u001b[0;31m---------------------------------------------------------------------------\u001b[0m",
            "\u001b[0;31mTypeError\u001b[0m                                 Traceback (most recent call last)",
            "\u001b[0;32m<ipython-input-36-11fca29cdff8>\u001b[0m in \u001b[0;36m<cell line: 1>\u001b[0;34m()\u001b[0m\n\u001b[0;32m----> 1\u001b[0;31m \u001b[0mget_ipython\u001b[0m\u001b[0;34m(\u001b[0m\u001b[0;34m)\u001b[0m\u001b[0;34m.\u001b[0m\u001b[0mrun_cell_magic\u001b[0m\u001b[0;34m(\u001b[0m\u001b[0;34m'mypy'\u001b[0m\u001b[0;34m,\u001b[0m \u001b[0;34m''\u001b[0m\u001b[0;34m,\u001b[0m \u001b[0;34m'\\ndef largest_of_three(a: int, b: int, c: int) -> int:\\n    #implement your code\\n    maxNum = 0\\n    if a < b:\\n        maxNum = b\\n    elif b < c:\\n        maxNum = c\\n\\ninput_data_largest_of_three = [(2, 4, 1), (1, 1, 1), (2, 2, 5), (-1, 0, -2)]\\noutput_data_largest_of_three = [4, 1, 5, 0]\\n\\nfor i, o in zip(input_data_largest_of_three, output_data_largest_of_three):\\n    assert largest_of_three(*i) == o\\n'\u001b[0m\u001b[0;34m)\u001b[0m\u001b[0;34m\u001b[0m\u001b[0;34m\u001b[0m\u001b[0m\n\u001b[0m",
            "\u001b[0;32m/usr/local/lib/python3.9/dist-packages/google/colab/_shell.py\u001b[0m in \u001b[0;36mrun_cell_magic\u001b[0;34m(self, magic_name, line, cell)\u001b[0m\n\u001b[1;32m    331\u001b[0m     \u001b[0;32mif\u001b[0m \u001b[0mline\u001b[0m \u001b[0;32mand\u001b[0m \u001b[0;32mnot\u001b[0m \u001b[0mcell\u001b[0m\u001b[0;34m:\u001b[0m\u001b[0;34m\u001b[0m\u001b[0;34m\u001b[0m\u001b[0m\n\u001b[1;32m    332\u001b[0m       \u001b[0mcell\u001b[0m \u001b[0;34m=\u001b[0m \u001b[0;34m' '\u001b[0m\u001b[0;34m\u001b[0m\u001b[0;34m\u001b[0m\u001b[0m\n\u001b[0;32m--> 333\u001b[0;31m     \u001b[0;32mreturn\u001b[0m \u001b[0msuper\u001b[0m\u001b[0;34m(\u001b[0m\u001b[0;34m)\u001b[0m\u001b[0;34m.\u001b[0m\u001b[0mrun_cell_magic\u001b[0m\u001b[0;34m(\u001b[0m\u001b[0mmagic_name\u001b[0m\u001b[0;34m,\u001b[0m \u001b[0mline\u001b[0m\u001b[0;34m,\u001b[0m \u001b[0mcell\u001b[0m\u001b[0;34m)\u001b[0m\u001b[0;34m\u001b[0m\u001b[0;34m\u001b[0m\u001b[0m\n\u001b[0m\u001b[1;32m    334\u001b[0m \u001b[0;34m\u001b[0m\u001b[0m\n\u001b[1;32m    335\u001b[0m \u001b[0;34m\u001b[0m\u001b[0m\n",
            "\u001b[0;32m/usr/local/lib/python3.9/dist-packages/IPython/core/interactiveshell.py\u001b[0m in \u001b[0;36mrun_cell_magic\u001b[0;34m(self, magic_name, line, cell)\u001b[0m\n\u001b[1;32m   2471\u001b[0m             \u001b[0;32mwith\u001b[0m \u001b[0mself\u001b[0m\u001b[0;34m.\u001b[0m\u001b[0mbuiltin_trap\u001b[0m\u001b[0;34m:\u001b[0m\u001b[0;34m\u001b[0m\u001b[0;34m\u001b[0m\u001b[0m\n\u001b[1;32m   2472\u001b[0m                 \u001b[0margs\u001b[0m \u001b[0;34m=\u001b[0m \u001b[0;34m(\u001b[0m\u001b[0mmagic_arg_s\u001b[0m\u001b[0;34m,\u001b[0m \u001b[0mcell\u001b[0m\u001b[0;34m)\u001b[0m\u001b[0;34m\u001b[0m\u001b[0;34m\u001b[0m\u001b[0m\n\u001b[0;32m-> 2473\u001b[0;31m                 \u001b[0mresult\u001b[0m \u001b[0;34m=\u001b[0m \u001b[0mfn\u001b[0m\u001b[0;34m(\u001b[0m\u001b[0;34m*\u001b[0m\u001b[0margs\u001b[0m\u001b[0;34m,\u001b[0m \u001b[0;34m**\u001b[0m\u001b[0mkwargs\u001b[0m\u001b[0;34m)\u001b[0m\u001b[0;34m\u001b[0m\u001b[0;34m\u001b[0m\u001b[0m\n\u001b[0m\u001b[1;32m   2474\u001b[0m             \u001b[0;32mreturn\u001b[0m \u001b[0mresult\u001b[0m\u001b[0;34m\u001b[0m\u001b[0;34m\u001b[0m\u001b[0m\n\u001b[1;32m   2475\u001b[0m \u001b[0;34m\u001b[0m\u001b[0m\n",
            "\u001b[0;32m<ipython-input-3-7a3794d5c285>\u001b[0m in \u001b[0;36mmypy\u001b[0;34m(line, cell)\u001b[0m\n\u001b[1;32m      8\u001b[0m   \u001b[0;32mfor\u001b[0m \u001b[0moutput\u001b[0m \u001b[0;32min\u001b[0m \u001b[0mapi\u001b[0m\u001b[0;34m.\u001b[0m\u001b[0mrun\u001b[0m\u001b[0;34m(\u001b[0m\u001b[0;34m[\u001b[0m\u001b[0;34m'-c'\u001b[0m\u001b[0;34m,\u001b[0m \u001b[0;34m'\\n'\u001b[0m \u001b[0;34m+\u001b[0m \u001b[0mcell\u001b[0m\u001b[0;34m]\u001b[0m \u001b[0;34m+\u001b[0m \u001b[0mline\u001b[0m\u001b[0;34m.\u001b[0m\u001b[0msplit\u001b[0m\u001b[0;34m(\u001b[0m\u001b[0;34m)\u001b[0m\u001b[0;34m)\u001b[0m\u001b[0;34m:\u001b[0m\u001b[0;34m\u001b[0m\u001b[0;34m\u001b[0m\u001b[0m\n\u001b[1;32m      9\u001b[0m     \u001b[0;32mif\u001b[0m \u001b[0moutput\u001b[0m \u001b[0;32mand\u001b[0m \u001b[0;32mnot\u001b[0m \u001b[0moutput\u001b[0m\u001b[0;34m.\u001b[0m\u001b[0mstartswith\u001b[0m\u001b[0;34m(\u001b[0m\u001b[0;34m'Success'\u001b[0m\u001b[0;34m)\u001b[0m\u001b[0;34m:\u001b[0m\u001b[0;34m\u001b[0m\u001b[0;34m\u001b[0m\u001b[0m\n\u001b[0;32m---> 10\u001b[0;31m       \u001b[0;32mraise\u001b[0m \u001b[0mTypeError\u001b[0m\u001b[0;34m(\u001b[0m\u001b[0moutput\u001b[0m\u001b[0;34m)\u001b[0m\u001b[0;34m\u001b[0m\u001b[0;34m\u001b[0m\u001b[0m\n\u001b[0m\u001b[1;32m     11\u001b[0m   \u001b[0mget_ipython\u001b[0m\u001b[0;34m(\u001b[0m\u001b[0;34m)\u001b[0m\u001b[0;34m.\u001b[0m\u001b[0mrun_cell\u001b[0m\u001b[0;34m(\u001b[0m\u001b[0mcell\u001b[0m\u001b[0;34m)\u001b[0m\u001b[0;34m\u001b[0m\u001b[0;34m\u001b[0m\u001b[0m\n",
            "\u001b[0;31mTypeError\u001b[0m: <string>:3: error: Missing return statement  [return]\nFound 1 error in 1 file (checked 1 source file)\n"
          ]
        }
      ]
    },
    {
      "cell_type": "markdown",
      "source": [
        "## 3. Write a function is_multiple_of_3_and_5(n: int) -> bool that reads an integer as input and determines if it is a multiple of both 3 and 5.\n",
        "\n"
      ],
      "metadata": {
        "id": "INqFk2K5c7ks"
      }
    },
    {
      "cell_type": "code",
      "source": [
        "%%mypy\n",
        "\n",
        "def is_multiple_of_3_and_5(n: int) -> bool:\n",
        "\n",
        "    #implement your code in one line\n",
        "    if n % 3 ==0 and n % 5 ==0:\n",
        "        return True\n",
        "    else:\n",
        "        return False\n",
        "\n",
        "input_data_multiple_3_5 = [15, 3, 5, 30, 0, -15]\n",
        "output_data_multiple_3_5 = [True, False, False, True, True, True]\n",
        "\n",
        "for input_value, output_value in zip(input_data_multiple_3_5, output_data_multiple_3_5):\n",
        "    assert is_multiple_of_3_and_5(input_value) == output_value\n"
      ],
      "metadata": {
        "id": "B2c46qWfc8z0"
      },
      "execution_count": 35,
      "outputs": []
    },
    {
      "cell_type": "markdown",
      "source": [
        "## 4. Write a function is_pythagorean_triple(a: int, b: int, c: int) -> bool that takes three numbers as input and determines whether they form a Pythagorean triple."
      ],
      "metadata": {
        "id": "jAEoPcBXc9kM"
      }
    },
    {
      "cell_type": "code",
      "source": [
        "%%mypy\n",
        "\n",
        "def is_pythagorean_triple(a: int, b: int, c: int) -> bool:\n",
        "    #implement your code in one line\n",
        "    if a**2 + b**2 == c**2:\n",
        "        return True\n",
        "    else:\n",
        "        return False\n",
        "\n",
        "input_data_pythagorean_triple = [(3, 4, 5), (5, 12, 13), (6, 8, 10), (7, 24, 25), (2, 3, 4), (0, 4, 4)]\n",
        "output_data_pythagorean_triple = [True, True, True, True, False, False]\n",
        "\n",
        "for input_values, output_value in zip(input_data_pythagorean_triple, output_data_pythagorean_triple):\n",
        "    assert is_pythagorean_triple(*input_values) == output_value"
      ],
      "metadata": {
        "id": "nJN7nZ1Nc-ad",
        "colab": {
          "base_uri": "https://localhost:8080/",
          "height": 211
        },
        "outputId": "e7f8e05e-21b9-4ee8-b991-5f61a9e93de8"
      },
      "execution_count": 34,
      "outputs": [
        {
          "output_type": "error",
          "ename": "AssertionError",
          "evalue": "ignored",
          "traceback": [
            "\u001b[0;31m---------------------------------------------------------------------------\u001b[0m",
            "\u001b[0;31mAssertionError\u001b[0m                            Traceback (most recent call last)",
            "\u001b[0;32m<ipython-input-34-4eb076e4654e>\u001b[0m in \u001b[0;36m<cell line: 11>\u001b[0;34m()\u001b[0m\n\u001b[1;32m     10\u001b[0m \u001b[0;34m\u001b[0m\u001b[0m\n\u001b[1;32m     11\u001b[0m \u001b[0;32mfor\u001b[0m \u001b[0minput_values\u001b[0m\u001b[0;34m,\u001b[0m \u001b[0moutput_value\u001b[0m \u001b[0;32min\u001b[0m \u001b[0mzip\u001b[0m\u001b[0;34m(\u001b[0m\u001b[0minput_data_pythagorean_triple\u001b[0m\u001b[0;34m,\u001b[0m \u001b[0moutput_data_pythagorean_triple\u001b[0m\u001b[0;34m)\u001b[0m\u001b[0;34m:\u001b[0m\u001b[0;34m\u001b[0m\u001b[0;34m\u001b[0m\u001b[0m\n\u001b[0;32m---> 12\u001b[0;31m     \u001b[0;32massert\u001b[0m \u001b[0mis_pythagorean_triple\u001b[0m\u001b[0;34m(\u001b[0m\u001b[0;34m*\u001b[0m\u001b[0minput_values\u001b[0m\u001b[0;34m)\u001b[0m \u001b[0;34m==\u001b[0m \u001b[0moutput_value\u001b[0m\u001b[0;34m\u001b[0m\u001b[0;34m\u001b[0m\u001b[0m\n\u001b[0m",
            "\u001b[0;31mAssertionError\u001b[0m: "
          ]
        }
      ]
    },
    {
      "cell_type": "markdown",
      "source": [
        "## 5. Write a function calculate_bmi(weight: float, height: float) -> str that takes a user's weight (in kg) and height (in meters) as input and calculates their body mass index (BMI). The function should return the BMI category based on the calculated value. \n",
        "\n",
        "\toutput: BMI < 18.5 : underweight, 18.5 <= BMI < 24.9 normal weight, 25.0 <= BMI overweight\n",
        "\n",
        "\n",
        "\n",
        "\n"
      ],
      "metadata": {
        "id": "EkRNBCyLctUY"
      }
    },
    {
      "cell_type": "code",
      "source": [
        "%%mypy\n",
        "\n",
        "def calculate_bmi(weight: float, height: float) -> str:\n",
        "    #implement your code in one line\n",
        "    bmi = float(weight / float(height**2))\n",
        "    if weight / height**2 < 18.5:\n",
        "        return \"Underweight\"\n",
        "    elif weight / height**2 >= 18.5 and weight / height**2 < 24.9:\n",
        "        return \"Normal weight\"\n",
        "    elif weight / height**2 >= 25.0 :\n",
        "        return \"Overweight\"\n",
        "    else:\n",
        "        return \"Invalid input\"\n",
        "    \n",
        "\n",
        "input_data_bmi_calculator = [(60, 1.7), (45, 1.6), (85, 1.8), (100, 2), (0, 1.5), (60, 0)]\n",
        "output_data_bmi_calculator = [\"Normal weight\", \"Underweight\", \"Overweight\", \"Overweight\", \"Underweight\", \"Invalid input\"]\n",
        "\n",
        "for input_values, output_value in zip(input_data_bmi_calculator, output_data_bmi_calculator):\n",
        "    assert calculate_bmi(*input_values) == output_value"
      ],
      "metadata": {
        "id": "BxdeHEF_cB3C",
        "colab": {
          "base_uri": "https://localhost:8080/",
          "height": 339
        },
        "outputId": "e5d37ee3-0a4f-410c-f6ce-20bab4fa7efe"
      },
      "execution_count": 38,
      "outputs": [
        {
          "output_type": "error",
          "ename": "ZeroDivisionError",
          "evalue": "ignored",
          "traceback": [
            "\u001b[0;31m---------------------------------------------------------------------------\u001b[0m",
            "\u001b[0;31mZeroDivisionError\u001b[0m                         Traceback (most recent call last)",
            "\u001b[0;32m<ipython-input-38-13cae9129f5f>\u001b[0m in \u001b[0;36m<cell line: 17>\u001b[0;34m()\u001b[0m\n\u001b[1;32m     16\u001b[0m \u001b[0;34m\u001b[0m\u001b[0m\n\u001b[1;32m     17\u001b[0m \u001b[0;32mfor\u001b[0m \u001b[0minput_values\u001b[0m\u001b[0;34m,\u001b[0m \u001b[0moutput_value\u001b[0m \u001b[0;32min\u001b[0m \u001b[0mzip\u001b[0m\u001b[0;34m(\u001b[0m\u001b[0minput_data_bmi_calculator\u001b[0m\u001b[0;34m,\u001b[0m \u001b[0moutput_data_bmi_calculator\u001b[0m\u001b[0;34m)\u001b[0m\u001b[0;34m:\u001b[0m\u001b[0;34m\u001b[0m\u001b[0;34m\u001b[0m\u001b[0m\n\u001b[0;32m---> 18\u001b[0;31m     \u001b[0;32massert\u001b[0m \u001b[0mcalculate_bmi\u001b[0m\u001b[0;34m(\u001b[0m\u001b[0;34m*\u001b[0m\u001b[0minput_values\u001b[0m\u001b[0;34m)\u001b[0m \u001b[0;34m==\u001b[0m \u001b[0moutput_value\u001b[0m\u001b[0;34m\u001b[0m\u001b[0;34m\u001b[0m\u001b[0m\n\u001b[0m",
            "\u001b[0;32m<ipython-input-38-13cae9129f5f>\u001b[0m in \u001b[0;36mcalculate_bmi\u001b[0;34m(weight, height)\u001b[0m\n\u001b[1;32m      1\u001b[0m \u001b[0;32mdef\u001b[0m \u001b[0mcalculate_bmi\u001b[0m\u001b[0;34m(\u001b[0m\u001b[0mweight\u001b[0m\u001b[0;34m:\u001b[0m \u001b[0mfloat\u001b[0m\u001b[0;34m,\u001b[0m \u001b[0mheight\u001b[0m\u001b[0;34m:\u001b[0m \u001b[0mfloat\u001b[0m\u001b[0;34m)\u001b[0m \u001b[0;34m->\u001b[0m \u001b[0mstr\u001b[0m\u001b[0;34m:\u001b[0m\u001b[0;34m\u001b[0m\u001b[0;34m\u001b[0m\u001b[0m\n\u001b[1;32m      2\u001b[0m     \u001b[0;31m#implement your code in one line\u001b[0m\u001b[0;34m\u001b[0m\u001b[0;34m\u001b[0m\u001b[0m\n\u001b[0;32m----> 3\u001b[0;31m     \u001b[0mbmi\u001b[0m \u001b[0;34m=\u001b[0m \u001b[0mfloat\u001b[0m\u001b[0;34m(\u001b[0m\u001b[0mweight\u001b[0m \u001b[0;34m/\u001b[0m \u001b[0mfloat\u001b[0m\u001b[0;34m(\u001b[0m\u001b[0mheight\u001b[0m\u001b[0;34m**\u001b[0m\u001b[0;36m2\u001b[0m\u001b[0;34m)\u001b[0m\u001b[0;34m)\u001b[0m\u001b[0;34m\u001b[0m\u001b[0;34m\u001b[0m\u001b[0m\n\u001b[0m\u001b[1;32m      4\u001b[0m     \u001b[0;32mif\u001b[0m \u001b[0mweight\u001b[0m \u001b[0;34m/\u001b[0m \u001b[0mheight\u001b[0m\u001b[0;34m**\u001b[0m\u001b[0;36m2\u001b[0m \u001b[0;34m<\u001b[0m \u001b[0;36m18.5\u001b[0m\u001b[0;34m:\u001b[0m\u001b[0;34m\u001b[0m\u001b[0;34m\u001b[0m\u001b[0m\n\u001b[1;32m      5\u001b[0m         \u001b[0;32mreturn\u001b[0m \u001b[0;34m\"Underweight\"\u001b[0m\u001b[0;34m\u001b[0m\u001b[0;34m\u001b[0m\u001b[0m\n",
            "\u001b[0;31mZeroDivisionError\u001b[0m: float division by zero"
          ]
        }
      ]
    },
    {
      "cell_type": "markdown",
      "source": [
        "## 6. Write a function are_anagrams(s1: str, s2: str) -> bool that takes two strings as input and determines whether they are anagrams."
      ],
      "metadata": {
        "id": "tdJa-fe6Lu_N"
      }
    },
    {
      "cell_type": "code",
      "source": [
        "%%mypy\n",
        "\n",
        "def are_anagrams(s1: str, s2: str) -> bool:\n",
        "  #implement your code in one line\n",
        "  pass\n",
        "\n",
        "input_data_anagram_checker = [(\"bored\", \"robed\"), (\"listen\", \"silent\"), (\"anagram\", \"nagaram\"), (\"hello\", \"world\"), (\"apple\", \"leppa\"), (\"night\", \"thing\"), (\"abc\", \"def\")]\n",
        "output_data_anagram_checker = [True, True, True, False, True, True, False]\n",
        "\n",
        "for input_values, output_value in zip(input_data_anagram_checker, output_data_anagram_checker):\n",
        "    assert are_anagrams(*input_values) == output_value"
      ],
      "metadata": {
        "id": "4CuQ-rftL-3y"
      },
      "execution_count": null,
      "outputs": []
    },
    {
      "cell_type": "markdown",
      "source": [
        "# Lab8"
      ],
      "metadata": {
        "id": "9fgcLU2reahl"
      }
    },
    {
      "cell_type": "markdown",
      "source": [
        "## 7. Write a function sum_of_multiples(limit: int, divisor: int) -> int that finds the sum of all numbers between 1 and limit that are divisible by divisor using a while loop.\n"
      ],
      "metadata": {
        "id": "dI9p5_rNec8G"
      }
    },
    {
      "cell_type": "code",
      "source": [
        "%%mypy\n",
        "\n",
        "def sum_of_multiples(limit: int, divisor: int) -> int:\n",
        "  #implement your code in one line\n",
        "  pass\n",
        "\n",
        "input_data_sum_of_multiples = [(100, 7), (50, 5), (20, 3)]\n",
        "output_data_sum_of_multiples = [735, 275, 63]\n",
        "\n",
        "for input_values, output_value in zip(input_data_sum_of_multiples, output_data_sum_of_multiples):\n",
        "    assert sum_of_multiples(*input_values) == output_value\n"
      ],
      "metadata": {
        "id": "nvheaxJOedT9"
      },
      "execution_count": null,
      "outputs": []
    },
    {
      "cell_type": "markdown",
      "source": [
        "##8. Write a function multiplication_table(n: int) -> str that takes an integer as input and returns the multiplication table for the given number using a for loop."
      ],
      "metadata": {
        "id": "wDOVnwLTee8p"
      }
    },
    {
      "cell_type": "code",
      "source": [
        "%%mypy\n",
        "\n",
        "def multiplication_table(n: int) -> str:\n",
        "  #implement your code in one line\n",
        "  pass\n",
        " \n",
        "input_data_multiplication_table = [5, 7, 3, 10, 0, -2]\n",
        "output_data_multiplication_table = [\n",
        "    \"5 x 1 = 5\\n5 x 2 = 10\\n5 x 3 = 15\\n5 x 4 = 20\\n5 x 5 = 25\\n5 x 6 = 30\\n5 x 7 = 35\\n5 x 8 = 40\\n5 x 9 = 45\",\n",
        "    \"7 x 1 = 7\\n7 x 2 = 14\\n7 x 3 = 21\\n7 x 4 = 28\\n7 x 5 = 35\\n7 x 6 = 42\\n7 x 7 = 49\\n7 x 8 = 56\\n7 x 9 = 63\",\n",
        "    \"3 x 1 = 3\\n3 x 2 = 6\\n3 x 3 = 9\\n3 x 4 = 12\\n3 x 5 = 15\\n3 x 6 = 18\\n3 x 7 = 21\\n3 x 8 = 24\\n3 x 9 = 27\",\n",
        "    \"10 x 1 = 10\\n10 x 2 = 20\\n10 x 3 = 30\\n10 x 4 = 40\\n10 x 5 = 50\\n10 x 6 = 60\\n10 x 7 = 70\\n10 x 8 = 80\\n10 x 9 = 90\",\n",
        "    \"0 x 1 = 0\\n0 x 2 = 0\\n0 x 3 = 0\\n0 x 4 = 0\\n0 x 5 = 0\\n0 x 6 = 0\\n0 x 7 = 0\\n0 x 8 = 0\\n0 x 9 = 0\",\n",
        "    \"-2 x 1 = -2\\n-2 x 2 = -4\\n-2 x 3 = -6\\n-2 x 4 = -8\\n-2 x 5 = -10\\n-2 x 6 = -12\\n-2 x 7 = -14\\n-2 x 8 = -16\\n-2 x 9 = -18\",\n",
        "]  \n",
        "\n",
        "for input_value, output_value in zip(input_data_multiplication_table, output_data_multiplication_table):\n",
        "    assert multiplication_table(input_value) == output_value"
      ],
      "metadata": {
        "id": "YeC_cgT3ee8q"
      },
      "execution_count": null,
      "outputs": []
    },
    {
      "cell_type": "markdown",
      "source": [
        "## 9. Write a function is_prime(n: int) -> bool that reads a positive integer and checks if it's a prime number using a for loop."
      ],
      "metadata": {
        "id": "J5zjEzX3efP0"
      }
    },
    {
      "cell_type": "code",
      "source": [
        "%%mypy\n",
        "\n",
        "def is_prime(n: int) -> bool:\n",
        "  #how can we implement the code in one line?\n",
        "  pass\n",
        "\n",
        "input_data_prime_checker = [7, 12, 19, 2, 1, 0, -3, 20]\n",
        "output_data_prime_checker = [True, False, True, True, False, False, False, False]\n",
        "\n",
        "for input_value, output_value in zip(input_data_prime_checker, output_data_prime_checker):\n",
        "    assert is_prime(input_value) == output_value"
      ],
      "metadata": {
        "id": "Q7DxZNeGefP0"
      },
      "execution_count": null,
      "outputs": []
    },
    {
      "cell_type": "markdown",
      "source": [
        "## 10. Write a function reverse(s: str) -> str and count_vowels(s :str) -> int that reads a string, reverses it using a loop, and returns the reversed string and the number of vowels in the string, respectively."
      ],
      "metadata": {
        "id": "P5k8YQd9dmUT"
      }
    },
    {
      "cell_type": "code",
      "source": [
        "%%mypy\n",
        "\n",
        "def reverse(s: str) -> str:\n",
        "  #implement your code in one line\n",
        "  pass\n",
        "\n",
        "def count_vowels(s :str) -> int:\n",
        "  #how can we implement the code in one line?\n",
        "  pass\n",
        "\n",
        "input_data_string_reversal_vowel_count = [\"hello\", \"world\", \"python\", \"aeiou\", \"empty\", \"hElLo\"]\n",
        "output_data_string_reversal_vowel_count = [(\"olleh\", 2), (\"dlrow\", 1), (\"nohtyp\", 1), (\"uoiea\", 5), (\"ytpme\", 1), (\"oLlEh\", 2)]\n",
        "\n",
        "for input_value, output_value in zip(input_data_string_reversal_vowel_count, output_data_string_reversal_vowel_count):\n",
        "    assert (reverse(input_value), count_vowels(input_value)) == output_value\n"
      ],
      "metadata": {
        "id": "EBIwt03Kdnpp"
      },
      "execution_count": null,
      "outputs": []
    },
    {
      "cell_type": "markdown",
      "source": [
        "## 11. Write a function gen_pattern(n: int) -> str that return the following pattern using loops with n rows:\n",
        "\n",
        "n = 5\n",
        "```\n",
        "*****\n",
        " ****\n",
        "  ***\n",
        "   **\n",
        "    *\n",
        "```"
      ],
      "metadata": {
        "id": "mPv8F8IDdsNB"
      }
    },
    {
      "cell_type": "code",
      "source": [
        "%%mypy\n",
        "\n",
        "def gen_pattern(n: int) -> str:\n",
        "  #implement your code in one line\n",
        "  pass\n",
        "\n",
        "input_data_gen_pattern = [5, 3, 6, 1]\n",
        "output_data_gen_pattern = [\"*****\\n ****\\n  ***\\n   **\\n    *\",\n",
        "                           \"***\\n **\\n  *\",\n",
        "                           \"******\\n *****\\n  ****\\n   ***\\n    **\\n     *\",\n",
        "                           \"*\"]\n",
        "\n",
        "for input_value, output_value in zip(input_data_gen_pattern, output_data_gen_pattern):\n",
        "    assert gen_pattern(input_value) == output_value"
      ],
      "metadata": {
        "id": "tXDgAKGadyDx"
      },
      "execution_count": null,
      "outputs": []
    },
    {
      "cell_type": "markdown",
      "source": [
        "## 12. Implement the following methods \n",
        "\n",
        "* add_item(item: str) -> None: Add an item to the shopping list.\n",
        "* remove_item(item: str) -> None: Remove an item from the shopping list.\n",
        "* display_list() -> List[str]: Return the current shopping list.\n",
        "* quit() -> None: Exit the shopping list.\n"
      ],
      "metadata": {
        "id": "aTfwJbtWeNxR"
      }
    },
    {
      "cell_type": "code",
      "source": [
        "%%mypy\n",
        "\n",
        "from typing import List, Dict, Callable, Any\n",
        "\n",
        "items = []\n",
        "\n",
        "def add_item(item: str) -> None:\n",
        "  #implement your code in one line\n",
        "  pass\n",
        "\n",
        "def remove_item(item: str) -> None:\n",
        "  #implement your code in one line\n",
        "  pass\n",
        "\n",
        "def display_list(item: str) -> List[str]:\n",
        "  #implement your code in one line\n",
        "  pass\n",
        "\n",
        "def quit(item: str) -> None:\n",
        "  #implement your code in one line\n",
        "  pass\n",
        "\n",
        "commands = {'add': add_item,\n",
        "            'remove': remove_item,\n",
        "            'display': display_list,\n",
        "            'exit': quit}\n",
        "\n",
        "input_data_shopping_list = [(\"add\", \"apple\"), (\"add\", \"banana\"),\n",
        "                            (\"add\", \"orange\"), (\"display\", ''),\n",
        "                            (\"remove\", \"banana\"), (\"display\", ''), \n",
        "                            (\"exit\", '')]\n",
        "\n",
        "output_data_shopping_list = [None, None,None,[\"apple\", \"banana\", \"orange\"], None,[\"apple\", \"orange\"],None]\n",
        "\n",
        "for (action, item), expected_output in zip(input_data_shopping_list, output_data_shopping_list):\n",
        "  assert commands[action](item) == expected_output\n"
      ],
      "metadata": {
        "id": "APNy8a6ZeO6l"
      },
      "execution_count": null,
      "outputs": []
    }
  ]
}