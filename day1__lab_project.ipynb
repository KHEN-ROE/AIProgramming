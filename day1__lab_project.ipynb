{
  "nbformat": 4,
  "nbformat_minor": 0,
  "metadata": {
    "colab": {
      "provenance": [],
      "toc_visible": true
    },
    "kernelspec": {
      "name": "python3",
      "display_name": "Python 3"
    },
    "language_info": {
      "name": "python"
    }
  },
  "cells": [
    {
      "cell_type": "markdown",
      "source": [
        "# Lab1"
      ],
      "metadata": {
        "id": "ZYJeA4fpcGNk"
      }
    },
    {
      "cell_type": "markdown",
      "source": [
        "1. Create a string variable called 'course_name' with the value \"Python for Non-Majors\", and print its length. \n",
        "\n",
        "hint: len()\n",
        "\n",
        "\n"
      ],
      "metadata": {
        "id": "0AZqhmeccW7p"
      }
    },
    {
      "cell_type": "code",
      "source": [
        "course_name = 'Python for Non-Majors'\n",
        "len(course_name)"
      ],
      "metadata": {
        "id": "SBUQ1WRTc1Nz",
        "colab": {
          "base_uri": "https://localhost:8080/"
        },
        "outputId": "ada2a54a-2f1d-466d-e78c-1146fc5c90c9"
      },
      "execution_count": 1,
      "outputs": [
        {
          "output_type": "execute_result",
          "data": {
            "text/plain": [
              "21"
            ]
          },
          "metadata": {},
          "execution_count": 1
        }
      ]
    },
    {
      "cell_type": "markdown",
      "source": [
        "2. Rename the following invalid variable names to follow Python naming rules: 1st_name, @age, Full-Name, class, list.\n",
        "\n",
        "\n"
      ],
      "metadata": {
        "id": "mGbPfQJEc5pl"
      }
    },
    {
      "cell_type": "code",
      "source": [
        "first_name = 'KEN'\n",
        "age = 28\n",
        "full_name = 'KEN ROE'\n",
        "class1 = 402\n",
        "list1 = [first_name, age, full_name, class1]\n",
        "print(list1)"
      ],
      "metadata": {
        "id": "mGAC-9rSc7Qd",
        "colab": {
          "base_uri": "https://localhost:8080/"
        },
        "outputId": "b30b4bfc-e429-4496-be31-ad35ef4e3dd7"
      },
      "execution_count": 3,
      "outputs": [
        {
          "output_type": "stream",
          "name": "stdout",
          "text": [
            "['KEN', 28, 'KEN ROE', 402]\n"
          ]
        }
      ]
    },
    {
      "cell_type": "markdown",
      "source": [
        "3. Calculate the result of 5 multiplied by 3, divided by 2, and raised to the power of 4. Use parentheses to ensure correct precedence.\n",
        "\n"
      ],
      "metadata": {
        "id": "INqFk2K5c7ks"
      }
    },
    {
      "cell_type": "code",
      "source": [
        "result = (5 * 3 / 2)**4\n",
        "print(result)"
      ],
      "metadata": {
        "id": "B2c46qWfc8z0",
        "colab": {
          "base_uri": "https://localhost:8080/"
        },
        "outputId": "d7466305-4776-452c-da7a-699728d63054"
      },
      "execution_count": 60,
      "outputs": [
        {
          "output_type": "execute_result",
          "data": {
            "text/plain": [
              "3164.0625"
            ]
          },
          "metadata": {},
          "execution_count": 60
        }
      ]
    },
    {
      "cell_type": "markdown",
      "source": [
        "\n",
        "4. Print the values of three variables on the same line, separated by commas and a space.\n",
        "\n",
        "\tname = \"Alice\", age = 30, city = \"New York\""
      ],
      "metadata": {
        "id": "jAEoPcBXc9kM"
      }
    },
    {
      "cell_type": "code",
      "source": [
        "name='Alice'\n",
        "age=30\n",
        "city='New York'\n",
        "print(name, age, city, sep=', ')"
      ],
      "metadata": {
        "id": "nJN7nZ1Nc-ad",
        "colab": {
          "base_uri": "https://localhost:8080/"
        },
        "outputId": "09c7ee00-ea80-4b6d-d57a-ca0306f24d66"
      },
      "execution_count": 9,
      "outputs": [
        {
          "output_type": "stream",
          "name": "stdout",
          "text": [
            "Alice, 30, New York\n"
          ]
        }
      ]
    },
    {
      "cell_type": "markdown",
      "source": [
        "5. Create a variable containing a string and reassign it to an integer.\n",
        "\n",
        "\n",
        "\n"
      ],
      "metadata": {
        "id": "EkRNBCyLctUY"
      }
    },
    {
      "cell_type": "code",
      "source": [
        "my_str = 'hello'\n",
        "my_str = 5\n",
        "print(my_str)"
      ],
      "metadata": {
        "id": "BxdeHEF_cB3C",
        "colab": {
          "base_uri": "https://localhost:8080/"
        },
        "outputId": "ab1332c0-66ff-4777-e193-4dba3fc9cf8f"
      },
      "execution_count": 61,
      "outputs": [
        {
          "output_type": "stream",
          "name": "stdout",
          "text": [
            "5\n"
          ]
        }
      ]
    },
    {
      "cell_type": "markdown",
      "source": [
        "6. Check the data type of a float variable and convert it to an integer.\n",
        "\n",
        "\n"
      ],
      "metadata": {
        "id": "8urakjF8dBKW"
      }
    },
    {
      "cell_type": "code",
      "source": [
        "my_float = 3.14159\n",
        "type(my_float)\n",
        "my_float1 = int(my_float)\n",
        "type(my_float1)"
      ],
      "metadata": {
        "id": "gDSlPn3DdDOM",
        "colab": {
          "base_uri": "https://localhost:8080/"
        },
        "outputId": "bf607938-1a71-4781-fd0e-030c436374ce"
      },
      "execution_count": 63,
      "outputs": [
        {
          "output_type": "execute_result",
          "data": {
            "text/plain": [
              "int"
            ]
          },
          "metadata": {},
          "execution_count": 63
        }
      ]
    },
    {
      "cell_type": "markdown",
      "source": [
        "7. Given an integer and a float, calculate their sum and product. Store the results in two separate variables and print them.\n",
        "\n",
        "\n"
      ],
      "metadata": {
        "id": "Zlqm6hu3dDno"
      }
    },
    {
      "cell_type": "code",
      "source": [
        "my_int = 10\n",
        "my_float = 3.14159\n",
        "sum = my_int + my_float\n",
        "product = my_int * my_float\n",
        "print('sum = ', sum, 'product = ', product, sep=' ')"
      ],
      "metadata": {
        "id": "04L2YydrdE13",
        "colab": {
          "base_uri": "https://localhost:8080/",
          "height": 229
        },
        "outputId": "36673e81-8f84-4fee-ef4c-29e729a741ca"
      },
      "execution_count": 65,
      "outputs": [
        {
          "output_type": "stream",
          "name": "stdout",
          "text": [
            "sum =  13.14159 product =  31.4159\n"
          ]
        },
        {
          "output_type": "error",
          "ename": "AttributeError",
          "evalue": "ignored",
          "traceback": [
            "\u001b[0;31m---------------------------------------------------------------------------\u001b[0m",
            "\u001b[0;31mAttributeError\u001b[0m                            Traceback (most recent call last)",
            "\u001b[0;32m<ipython-input-65-f7f51b222a24>\u001b[0m in \u001b[0;36m<cell line: 6>\u001b[0;34m()\u001b[0m\n\u001b[1;32m      4\u001b[0m \u001b[0mproduct\u001b[0m \u001b[0;34m=\u001b[0m \u001b[0mmy_int\u001b[0m \u001b[0;34m*\u001b[0m \u001b[0mmy_float\u001b[0m\u001b[0;34m\u001b[0m\u001b[0;34m\u001b[0m\u001b[0m\n\u001b[1;32m      5\u001b[0m \u001b[0mprint\u001b[0m\u001b[0;34m(\u001b[0m\u001b[0;34m'sum = '\u001b[0m\u001b[0;34m,\u001b[0m \u001b[0msum\u001b[0m\u001b[0;34m,\u001b[0m \u001b[0;34m'product = '\u001b[0m\u001b[0;34m,\u001b[0m \u001b[0mproduct\u001b[0m\u001b[0;34m,\u001b[0m \u001b[0msep\u001b[0m\u001b[0;34m=\u001b[0m\u001b[0;34m' '\u001b[0m\u001b[0;34m)\u001b[0m\u001b[0;34m\u001b[0m\u001b[0;34m\u001b[0m\u001b[0m\n\u001b[0;32m----> 6\u001b[0;31m \u001b[0mprint\u001b[0m\u001b[0;34m(\u001b[0m\u001b[0;34m'{:.f}, {:.2f}'\u001b[0m\u001b[0;34m.\u001b[0m\u001b[0mforamt\u001b[0m\u001b[0;34m(\u001b[0m\u001b[0msum\u001b[0m\u001b[0;34m,\u001b[0m\u001b[0mproduct\u001b[0m\u001b[0;34m)\u001b[0m\u001b[0;34m)\u001b[0m\u001b[0;34m\u001b[0m\u001b[0;34m\u001b[0m\u001b[0m\n\u001b[0m",
            "\u001b[0;31mAttributeError\u001b[0m: 'str' object has no attribute 'foramt'"
          ]
        }
      ]
    },
    {
      "cell_type": "markdown",
      "source": [
        "8. Use comparison and logical operators to evaluate a condition. The comparison should check if x is less than y, and if y is less than z. Print the value of result to the console.\n",
        "\n",
        "\tx = 10, y = 20, z = 30"
      ],
      "metadata": {
        "id": "DsXdhO5zdFQX"
      }
    },
    {
      "cell_type": "code",
      "source": [
        "x=10\n",
        "y=20\n",
        "z=30\n",
        "if x < y:\n",
        "    print(x)\n",
        "elif y < z:\n",
        "    print(y) "
      ],
      "metadata": {
        "id": "ZFivLJHCdGK3",
        "colab": {
          "base_uri": "https://localhost:8080/"
        },
        "outputId": "d2fb76aa-01cf-410f-a785-40aeac7af332"
      },
      "execution_count": 37,
      "outputs": [
        {
          "output_type": "stream",
          "name": "stdout",
          "text": [
            "10\n"
          ]
        }
      ]
    },
    {
      "cell_type": "markdown",
      "source": [
        "# Lab2"
      ],
      "metadata": {
        "id": "9fgcLU2reahl"
      }
    },
    {
      "cell_type": "markdown",
      "source": [
        "1. Create a string of 10 asterisks using repetition, and print the length of the string.\n",
        "\n",
        "\ttext = “*”"
      ],
      "metadata": {
        "id": "dI9p5_rNec8G"
      }
    },
    {
      "cell_type": "code",
      "source": [
        "text = '*'\n",
        "print(text*10)"
      ],
      "metadata": {
        "id": "nvheaxJOedT9",
        "colab": {
          "base_uri": "https://localhost:8080/"
        },
        "outputId": "c5400715-fd1a-46b6-b193-3187aa8602f3"
      },
      "execution_count": 38,
      "outputs": [
        {
          "output_type": "stream",
          "name": "stdout",
          "text": [
            "**********\n"
          ]
        }
      ]
    },
    {
      "cell_type": "markdown",
      "source": [
        "2. Convert a string to title case and print the result. hint: title()\n",
        "\n",
        "\ttext = \"hello world\""
      ],
      "metadata": {
        "id": "wDOVnwLTee8p"
      }
    },
    {
      "cell_type": "code",
      "source": [
        "text = \"hello world\"\n",
        "print(text.title())"
      ],
      "metadata": {
        "id": "YeC_cgT3ee8q",
        "colab": {
          "base_uri": "https://localhost:8080/"
        },
        "outputId": "a81ac8ae-9444-41b8-e0fc-f6cefcc5cff7"
      },
      "execution_count": 39,
      "outputs": [
        {
          "output_type": "stream",
          "name": "stdout",
          "text": [
            "Hello World\n"
          ]
        }
      ]
    },
    {
      "cell_type": "markdown",
      "source": [
        "3. Slice a string to obtain every second character, starting from the first character.\n",
        "\n",
        "\ttext = \"Python is fun!\""
      ],
      "metadata": {
        "id": "J5zjEzX3efP0"
      }
    },
    {
      "cell_type": "code",
      "source": [
        "text = \"Python is fun!\"\n",
        "text[::2]"
      ],
      "metadata": {
        "id": "Q7DxZNeGefP0",
        "colab": {
          "base_uri": "https://localhost:8080/",
          "height": 35
        },
        "outputId": "a43a2629-2f63-4134-a59d-7118809aee33"
      },
      "execution_count": 45,
      "outputs": [
        {
          "output_type": "execute_result",
          "data": {
            "text/plain": [
              "'Pto sfn'"
            ],
            "application/vnd.google.colaboratory.intrinsic+json": {
              "type": "string"
            }
          },
          "metadata": {},
          "execution_count": 45
        }
      ]
    },
    {
      "cell_type": "markdown",
      "source": [
        "4. Create a string containing double quotes and a newline character.\n",
        "\n",
        "\ttext = This is a string with \"double quotes\" and a newline"
      ],
      "metadata": {
        "id": "SVmkUvFEefSw"
      }
    },
    {
      "cell_type": "code",
      "source": [
        "text = \"This is a string with \\\"double quotes\\\" and a newline\\n\"\n",
        "print(text)"
      ],
      "metadata": {
        "id": "1h3JnFZ3efSx",
        "colab": {
          "base_uri": "https://localhost:8080/"
        },
        "outputId": "7400a164-bd14-4f92-c0e3-04472f4f531f"
      },
      "execution_count": 66,
      "outputs": [
        {
          "output_type": "stream",
          "name": "stdout",
          "text": [
            "This is a string with \"double quotes\" and a newline\n",
            "\n"
          ]
        }
      ]
    },
    {
      "cell_type": "markdown",
      "source": [
        "5. Use the 'sep' argument in the print() function to print a list of items separated by commas.\n",
        "\n",
        "\tItems = apple, banana, orange"
      ],
      "metadata": {
        "id": "Ig4Qqk6fefV5"
      }
    },
    {
      "cell_type": "code",
      "source": [
        "Items = 'apple', 'banana', 'orange'\n",
        "print(Items, sep=',')"
      ],
      "metadata": {
        "id": "wiEtWocNefV6",
        "colab": {
          "base_uri": "https://localhost:8080/"
        },
        "outputId": "86618bda-307a-4320-ada3-fd2d93db976b"
      },
      "execution_count": 50,
      "outputs": [
        {
          "output_type": "stream",
          "name": "stdout",
          "text": [
            "('apple', 'banana', 'orange')\n"
          ]
        }
      ]
    },
    {
      "cell_type": "markdown",
      "source": [
        "6. Get user input for a floating-point number and print its square."
      ],
      "metadata": {
        "id": "bqPkCSx-efYw"
      }
    },
    {
      "cell_type": "code",
      "source": [
        "my_float = float(input(\"input float number\"))\n",
        "print(my_float**2)"
      ],
      "metadata": {
        "id": "LDvc1P3HefYx",
        "colab": {
          "base_uri": "https://localhost:8080/"
        },
        "outputId": "4bfe3615-3a96-4afc-93ce-01709936e060"
      },
      "execution_count": 51,
      "outputs": [
        {
          "output_type": "stream",
          "name": "stdout",
          "text": [
            "input float number3.14\n",
            "9.8596\n"
          ]
        }
      ]
    },
    {
      "cell_type": "markdown",
      "source": [
        "7. Create a string 'email' and use string methods to replace '@' with ' [at] ' and '.' with ' [dot] '.\n",
        "\n",
        "\temail = \"john.doe@example.com\"\n",
        "\n",
        "hint: replace() in str"
      ],
      "metadata": {
        "id": "6HbHQ3mDefbV"
      }
    },
    {
      "cell_type": "code",
      "source": [
        "email = \"john.doe@example.com\"\n",
        "email = email.replace('@', '[at]').replace('.', '[dot]') #메소드 체이닝\n",
        "print(email)"
      ],
      "metadata": {
        "id": "W1YLTHq4efbV",
        "colab": {
          "base_uri": "https://localhost:8080/"
        },
        "outputId": "23d4fc15-c9d7-45b4-8c3d-ec194226824e"
      },
      "execution_count": 67,
      "outputs": [
        {
          "output_type": "stream",
          "name": "stdout",
          "text": [
            "john[dot]doe[at]example[dot]com\n"
          ]
        }
      ]
    },
    {
      "cell_type": "markdown",
      "source": [
        "# Project"
      ],
      "metadata": {
        "id": "BCoKWQ_tfC2S"
      }
    },
    {
      "cell_type": "markdown",
      "source": [
        "1. Text Analysis\n",
        "\n",
        "Create a program that performs a simple analysis of a user-provided text passage.\n",
        "\n",
        "<br>\n",
        "Input:\n",
        "\n",
        "The quick brown fox jumps over the lazy dog. The weather is great today. Let's go outside and play!\n",
        "\n",
        "<br>\n",
        "Instruction:\n",
        "\n",
        "  * Prompt the user for a text passage.\n",
        "  * Ignore case and punctuation.\n",
        "  * Calculate and print the total number of characters, words, and sentences in the passage.\n",
        "  * Calculate and print the average length of words and sentences.\n",
        "  * Calculate and print the frequency of each vowel (a, e, i, o, u) and the percentage of vowels in the text.\n",
        "  * Calculate and print the frequency of each word in the passage.\n",
        "\n"
      ],
      "metadata": {
        "id": "9GoMSloKfEl6"
      }
    },
    {
      "cell_type": "code",
      "source": [
        "msg = input('input message')\n",
        "msg = msg.lower()"
      ],
      "metadata": {
        "id": "X5Q8ZjwPfI1a",
        "colab": {
          "base_uri": "https://localhost:8080/"
        },
        "outputId": "eede4d6a-ed0a-47d3-fa18-7fc0382800f8"
      },
      "execution_count": 59,
      "outputs": [
        {
          "output_type": "stream",
          "name": "stdout",
          "text": [
            "input messageThe quick brown fox jumps over the lazy dog. The weather is great today. Let's go outside and play!\n",
            "the quick brown fox jumps over the lazy dog. the weather is great today. let's go outside and play!\n"
          ]
        }
      ]
    },
    {
      "cell_type": "markdown",
      "source": [
        "2. Web Article Text Analysis\n",
        "\n",
        "\n",
        "You'll use the BeautifulSoup library to extract text from an article on a news website like the Washington Post, and then perform the same text analysis as before.\n",
        "\n",
        "<br>\n",
        "\n",
        "**Input:**\n",
        "\n",
        "* https://www.washingtonpost.com/national-security/2023/03/31/trump-arraignment-secret-service/\n",
        "\n",
        "* https://v.daum.net/v/20230401115141365\n",
        "\n",
        "<br>\n",
        "\n",
        "**Install the required libraries:**\n",
        "\n",
        "```python\n",
        "pip install bs4\n",
        "pip install requests\n",
        "```\n",
        "\n"
      ],
      "metadata": {
        "id": "m7driE1ZfagV"
      }
    },
    {
      "cell_type": "code",
      "source": [
        "!pip install bs4\n",
        "!pip install requests"
      ],
      "metadata": {
        "id": "VQm4bgErfjj7"
      },
      "execution_count": null,
      "outputs": []
    },
    {
      "cell_type": "code",
      "source": [
        "import re\n",
        "import requests\n",
        "from bs4 import BeautifulSoup\n",
        "\n",
        "url = input(\"Enter the URL of the news article: \")\n",
        "response = requests.get(url)\n",
        "soup = BeautifulSoup(response.text, \"html.parser\")\n",
        "article = soup.find(\"article\")\n",
        "paragraphs = article.find_all(\"p\")\n",
        "text = \" \".join(p.get_text() for p in paragraphs)\n",
        "print('text: ', text)\n"
      ],
      "metadata": {
        "id": "XS2ENJ7Jf3VS"
      },
      "execution_count": null,
      "outputs": []
    },
    {
      "cell_type": "code",
      "source": [],
      "metadata": {
        "id": "BIuzQiR8f6mB"
      },
      "execution_count": null,
      "outputs": []
    }
  ]
}