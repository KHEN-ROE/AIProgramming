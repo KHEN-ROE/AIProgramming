{
  "nbformat": 4,
  "nbformat_minor": 0,
  "metadata": {
    "colab": {
      "provenance": [],
      "toc_visible": true
    },
    "kernelspec": {
      "name": "python3",
      "display_name": "Python 3"
    },
    "language_info": {
      "name": "python"
    }
  },
  "cells": [
    {
      "cell_type": "markdown",
      "source": [
        "# Lab5"
      ],
      "metadata": {
        "id": "ZYJeA4fpcGNk"
      }
    },
    {
      "cell_type": "markdown",
      "source": [
        "\n",
        "\n",
        "## 1. Write your code according to the following instructions:\n",
        "\n",
        "* Create a list of integers and find the sum of all even numbers.\n",
        "* Add a new element to the end of the list.\n",
        "* Remove the first element from the list.\n",
        "* Sort the list in ascending order.\n",
        "\n",
        "\n",
        "\n",
        "\n",
        "\n",
        "\n"
      ],
      "metadata": {
        "id": "0AZqhmeccW7p"
      }
    },
    {
      "cell_type": "code",
      "source": [
        "# Create a list of integers\n",
        "int_list = list(range(1, 100))\n",
        "lSum = sum(int_list)\n",
        "int_list.append(101)\n",
        "int_list.remove(int_list[0])\n",
        "sorted(int_list)\n",
        "print(int_list)"
      ],
      "metadata": {
        "id": "SBUQ1WRTc1Nz",
        "colab": {
          "base_uri": "https://localhost:8080/"
        },
        "outputId": "8afed775-85ed-46b6-d948-3d1b2b44ef09"
      },
      "execution_count": 4,
      "outputs": [
        {
          "output_type": "stream",
          "name": "stdout",
          "text": [
            "[2, 3, 4, 5, 6, 7, 8, 9, 10, 11, 12, 13, 14, 15, 16, 17, 18, 19, 20, 21, 22, 23, 24, 25, 26, 27, 28, 29, 30, 31, 32, 33, 34, 35, 36, 37, 38, 39, 40, 41, 42, 43, 44, 45, 46, 47, 48, 49, 50, 51, 52, 53, 54, 55, 56, 57, 58, 59, 60, 61, 62, 63, 64, 65, 66, 67, 68, 69, 70, 71, 72, 73, 74, 75, 76, 77, 78, 79, 80, 81, 82, 83, 84, 85, 86, 87, 88, 89, 90, 91, 92, 93, 94, 95, 96, 97, 98, 99, 101]\n"
          ]
        }
      ]
    },
    {
      "cell_type": "markdown",
      "source": [
        "## 2. Write your code according to the following instructions:\n",
        "\n",
        "* Create a tuple containing names of your three favorite fruits.\n",
        "* Use tuple unpacking to assign each fruit to a separate variable.\n",
        "* Create a new tuple by concatenating your favorite fruits with a tuple of your favorite vegetables.\n",
        "\n",
        "\n"
      ],
      "metadata": {
        "id": "mGbPfQJEc5pl"
      }
    },
    {
      "cell_type": "code",
      "source": [
        "# Create a tuple containing names of your three favorite fruits.\n",
        "fruits = (\"apple\", \"banana\", \"cherry\")\n",
        "vegetables = (\"carrot\", \"spinach\", \"cabbage\")\n",
        "f1, f2, f3 = fruits\n",
        "fv = fruits + vegetables\n",
        "print(fv)\n"
      ],
      "metadata": {
        "id": "mGAC-9rSc7Qd"
      },
      "execution_count": null,
      "outputs": []
    },
    {
      "cell_type": "markdown",
      "source": [
        "## 3. Write your code according to the following instructions:\n",
        "\n",
        "* Create a list of strings and find the longest string.\n",
        "* Calculate the sum of a range of numbers from 1 to 100.\n",
        "* Using a list comprehension, create a list containing the squares of the numbers from 1 to 10.\n",
        "\n"
      ],
      "metadata": {
        "id": "INqFk2K5c7ks"
      }
    },
    {
      "cell_type": "code",
      "source": [
        "# Create a list of strings\n",
        "strings = [\"apple\", \"banana\", \"A\", \"Hello\", \"Python is fun!\", \"pineapple\", \"blueberry\"]\n",
        "lString = \"\"\n",
        "for i in strings:\n",
        "        if len(i) > len(lString):\n",
        "            lString = i;\n",
        "\n",
        "print(lString)\n"
      ],
      "metadata": {
        "id": "B2c46qWfc8z0"
      },
      "execution_count": null,
      "outputs": []
    },
    {
      "cell_type": "markdown",
      "source": [
        "\n",
        "## 4. Write your code according to the following instructions:\n",
        "\n",
        "* Create two lists, a and b, where b is a shallow copy of a.\n",
        "* Modify an element in a and observe the effect on b.\n",
        "* Repeat the process using a deep copy instead of a shallow copy."
      ],
      "metadata": {
        "id": "jAEoPcBXc9kM"
      }
    },
    {
      "cell_type": "code",
      "source": [
        "import copy\n",
        "a = [1, 2, [3, 4]]\n",
        "b = a.copy()\n",
        "str = 'a'\n",
        "a.append(str)\n",
        "#print(a)\n",
        "#print(b)\n",
        "b2 = a\n",
        "b1 = copy.deepcopy(a)\n",
        "print(a)\n",
        "print(b)\n",
        "print(b1)\n",
        "print(b2)\n",
        "\n"
      ],
      "metadata": {
        "id": "nJN7nZ1Nc-ad"
      },
      "execution_count": null,
      "outputs": []
    },
    {
      "cell_type": "markdown",
      "source": [
        "## 5 Write your code according to the following instructions:\n",
        "\n",
        "* Create a string containing a sentence.\n",
        "* Reverse the order of the words in the sentence.\n",
        "* Convert the sentence to uppercase.\n",
        "Replace a word in the sentence with another word.\n",
        "\n",
        "\n",
        "\n"
      ],
      "metadata": {
        "id": "EkRNBCyLctUY"
      }
    },
    {
      "cell_type": "code",
      "source": [
        "# Create a string containing a sentence.\n",
        "sentence = \"This is a sample sentence\"\n",
        "rword = ' '.join(sentence.split()[::-1])\n",
        "print(rword)\n"
      ],
      "metadata": {
        "id": "BxdeHEF_cB3C",
        "colab": {
          "base_uri": "https://localhost:8080/"
        },
        "outputId": "d998c37f-4dd9-497c-8291-791c455941bd"
      },
      "execution_count": 6,
      "outputs": [
        {
          "output_type": "stream",
          "name": "stdout",
          "text": [
            "sentence sample a is This\n"
          ]
        }
      ]
    },
    {
      "cell_type": "markdown",
      "source": [
        "# 6. Palindrome Check\n",
        "\n",
        "A palindrome is a word, phrase, number, or other sequences of characters that reads the same forward and backward, ignoring spaces, punctuation, and capitalization. Write a function that checks if a given string is a palindrome."
      ],
      "metadata": {
        "id": "tdJa-fe6Lu_N"
      }
    },
    {
      "cell_type": "code",
      "source": [
        "def is_palindrome(s: str):\n",
        "    # Implement your code\n",
        "    # Return true if s is palladium, false otherwise.\n",
        "    p = True\n",
        "    for x in input_strings:\n",
        "        if x == s:\n",
        "            p = True\n",
        "            break\n",
        "        else:\n",
        "            p = False\n",
        "    return print(p)\n",
        "\n",
        "input_strings = ['','a', 'abccba', 'racecar', 'hello', 'madam', 'python', 'level', 'world']\n",
        "r_list = []\n",
        "\n",
        "for i in input_strings:\n",
        "    r_list = i[::-1]\n",
        "    r_String = r_list\n",
        "    is_palindrome(r_String)\n"
      ],
      "metadata": {
        "id": "rBaG-0MTRktW",
        "colab": {
          "base_uri": "https://localhost:8080/"
        },
        "outputId": "865fd3e6-2478-4fca-cec7-92e69e3a9d73"
      },
      "execution_count": 9,
      "outputs": [
        {
          "output_type": "stream",
          "name": "stdout",
          "text": [
            "True\n",
            "True\n",
            "True\n",
            "True\n",
            "False\n",
            "True\n",
            "False\n",
            "True\n",
            "False\n"
          ]
        }
      ]
    },
    {
      "cell_type": "markdown",
      "source": [
        "# Lab6"
      ],
      "metadata": {
        "id": "9fgcLU2reahl"
      }
    },
    {
      "cell_type": "markdown",
      "source": [
        "## 1. Write your code according to the following instructions:\n",
        "\n",
        "* Create a list of numbers from 1 to 50.\n",
        "* Filter out all the numbers that are divisible by 3 and store them in a new list.\n",
        "* Calculate the sum of the remaining numbers in the original list.\n",
        "* Reverse the order of the elements in the original list."
      ],
      "metadata": {
        "id": "dI9p5_rNec8G"
      }
    },
    {
      "cell_type": "code",
      "source": [
        "# Create a list of numbers from 1 to 50\n",
        "numbers = list(range(1, 51))\n",
        "newList = []\n",
        "print(\"reversed order :\",numbers[::-1])\n",
        "for i in numbers:\n",
        "    if i % 3 == 0:\n",
        "        newList.append(i)\n",
        "        numbers.remove(i)\n",
        "\n",
        "print(\"3의 약수가 아닌 나머지 수들의 합 :\",sum(numbers))\n",
        "\n",
        "#side effect 란?"
      ],
      "metadata": {
        "id": "nvheaxJOedT9"
      },
      "execution_count": null,
      "outputs": []
    },
    {
      "cell_type": "markdown",
      "source": [
        "## 2. Write your code according to the following instructions:\n",
        "\n",
        "* Create a tuple containing 5 numbers.\n",
        "* Calculate the minimum, maximum, and average of the numbers in the tuple.\n",
        "* Create a new tuple by appending the calculated minimum, maximum, and average to the original tuple.\n",
        "* Use tuple unpacking to store the first three elements of the new tuple in separate variables."
      ],
      "metadata": {
        "id": "wDOVnwLTee8p"
      }
    },
    {
      "cell_type": "code",
      "source": [
        "# Create a tuple containing 5 numbers\n",
        "numbers = (3, 7, 2, 9, 5)\n",
        "print(max(numbers))\n",
        "print(min(numbers))\n",
        "print(sum(numbers) / len(numbers))\n",
        "\n",
        "a,b,c = numbers[:3]\n",
        "newNum = (a,b,c)\n",
        "print(newNum)\n",
        "\n"
      ],
      "metadata": {
        "id": "YeC_cgT3ee8q"
      },
      "execution_count": null,
      "outputs": []
    },
    {
      "cell_type": "code",
      "source": [
        "# Given a list of strings\n",
        "strings = [\"apple\", \"banana\", \"pineapple\", \"blueberry\", \"kiwi\"]\n",
        "\n"
      ],
      "metadata": {
        "id": "Q7DxZNeGefP0"
      },
      "execution_count": null,
      "outputs": []
    },
    {
      "cell_type": "markdown",
      "source": [
        "## 3. Write your code according to the following instructions:\n",
        "\n",
        "* Write a function that takes a string as input and returns the string with all vowels removed.\n",
        "* Create a list of strings and use the function to filter the vowels from each string.\n",
        "* Sort the filtered strings based on the number of consonants.\n",
        "* Write a function that takes a string as input and returns the string with words in reverse order. Use this function on each string in the list of filtered strings."
      ],
      "metadata": {
        "id": "P5k8YQd9dmUT"
      }
    },
    {
      "cell_type": "code",
      "source": [
        "def remove_vowels(s):\n",
        "  # implement your code\n",
        "\n",
        "\n",
        "# Create a list of strings\n",
        "strings = [\"apple\", \"banana\", \"cherry\", \"kiwi\", \"mango\", \"orange\", \"strawberry\", \"avocado\", \"zucchini\", \"grape\", \"blueberry\"]\n"
      ],
      "metadata": {
        "id": "EBIwt03Kdnpp"
      },
      "execution_count": null,
      "outputs": []
    },
    {
      "cell_type": "markdown",
      "source": [
        "## 4. Two Sum\n",
        "\n",
        "Given a list of integers and a target integer, find two integers in the list that sum up to the target. Return their indices as a tuple. Assume there is exactly one solution and you may not use the same element twice.\n",
        "\n",
        "\n",
        "```\n",
        "# input data 1\n",
        "numbers = [3, 2, 4]\n",
        "target = 6\n",
        "\n",
        "# output data 1\n",
        "(1, 2)\n",
        "\n",
        "# input data 2\n",
        "numbers = [8, 5, 6, 1, 2, 9]\n",
        "target = 9\n",
        "\n",
        "# output data 2\n",
        "(0, 3)\n",
        "\n",
        "# input data 3\n",
        "numbers = [1, 3, 6, 9, 2, 4, 8]\n",
        "target = 14\n",
        "\n",
        "# output data 3\n",
        "(2, 6)\n",
        "```"
      ],
      "metadata": {
        "id": "mPv8F8IDdsNB"
      }
    },
    {
      "cell_type": "code",
      "source": [
        "def two_sum(nums, target):\n",
        "    # Implement your code\n",
        "    # Return two integers in the list that sum up to the target\n",
        "\n",
        "\n"
      ],
      "metadata": {
        "id": "tXDgAKGadyDx"
      },
      "execution_count": null,
      "outputs": []
    }
  ]
}